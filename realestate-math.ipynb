{
 "cells": [
  {
   "cell_type": "code",
   "execution_count": 232,
   "metadata": {
    "collapsed": true
   },
   "outputs": [],
   "source": [
    "import numpy as np"
   ]
  },
  {
   "cell_type": "markdown",
   "metadata": {},
   "source": [
    "$(1 + \\text{geometric return})^n = \\prod_{i=1}^n{1+r_i}$\n",
    "\n",
    "$\\text{geometric return} = \\sqrt[n]{\\prod_{i=1}^n{1+r_i}} - 1$"
   ]
  },
  {
   "cell_type": "code",
   "execution_count": 233,
   "metadata": {
    "collapsed": false
   },
   "outputs": [],
   "source": [
    "def geometricReturn(rs):\n",
    "    l = 1\n",
    "    for r in rs:\n",
    "        l *= 1 + r\n",
    "    \n",
    "    return l**(1/len(rs)) - 1"
   ]
  },
  {
   "cell_type": "code",
   "execution_count": 234,
   "metadata": {
    "collapsed": false
   },
   "outputs": [
    {
     "data": {
      "text/plain": [
       "0.055334022907651992"
      ]
     },
     "execution_count": 234,
     "metadata": {},
     "output_type": "execute_result"
    }
   ],
   "source": [
    "rs = np.array([3, 7, 5, 12, 1])/100\n",
    "geometricReturn(rs)"
   ]
  },
  {
   "cell_type": "code",
   "execution_count": 235,
   "metadata": {
    "collapsed": false
   },
   "outputs": [
    {
     "data": {
      "text/plain": [
       "0.055357881080939197"
      ]
     },
     "execution_count": 235,
     "metadata": {},
     "output_type": "execute_result"
    }
   ],
   "source": [
    "rs = np.array([4, 6, 5, 6, 6.7])/100\n",
    "geometricReturn(rs)"
   ]
  },
  {
   "cell_type": "markdown",
   "metadata": {
    "collapsed": true
   },
   "source": [
    "## House / Mortgage pricing"
   ]
  },
  {
   "cell_type": "markdown",
   "metadata": {
    "collapsed": true
   },
   "source": [
    "\n",
    "## derivation\n",
    "\n",
    "if $m_i$ is the amount due at the end of the $i$th month, every month the amount due is increased by the interest such that:\n",
    "\n",
    "* $m_0 = p$\n",
    "* $m_1 = (1+r)m_0 - c$\n",
    "* $m_2 = (1+r)m_1 - c = (1+r)^2p - c[1 + (1+r)]$\n",
    "* $m_3 = (1+r)m_2 - c = (1+r)^3p - c[1 + (1+r) + (1+r^2)]$\n",
    "\n",
    "from the above it is easy to infer that\n",
    "\n",
    "$m_n = (1+r)^np - c\\sum_{i=0}^{n-1}(1+r)^i \\stackrel{\\text{Geometric Series}}{=} (1+r)^np - c\\frac{(1+r)^n-1}{r}$\n",
    "\n"
   ]
  },
  {
   "cell_type": "code",
   "execution_count": 430,
   "metadata": {
    "collapsed": true
   },
   "outputs": [],
   "source": [
    "def dueAtN(p, c, r, n):\n",
    "    return p*(1+r)**n  - c*((1+r)**n -1)/r"
   ]
  },
  {
   "cell_type": "markdown",
   "metadata": {
    "collapsed": true
   },
   "source": [
    "### Setting the equality\n",
    "\n",
    "at month $n=N$ the loan must be paid off and hence $m_N = 0$ leading to\n",
    "\n",
    "$(1+r)^Np = c\\frac{(1+r)^N-1}{r}$\n",
    "\n",
    "from which we get\n",
    "\n",
    "$\\frac{c}{p} = \\frac{r(1+r)^N}{(1+r)^N-1} = \\frac{r}{1-(1+r)^{-N}}$\n",
    "\n",
    "note that when $r = 0$, \n",
    "\n",
    "$\\frac{p}{c}= \\lim_{r \\to 0} \\frac{1-(1+r)^{-N}}{r} = \\frac{\\lim_{r \\to 0}1-(1+r)^{-N}}{\\lim_{r \\to 0}r}\\stackrel{\\text{L'Hôpital}}{=} \\frac{\\lim_{r \\to 0}N(1+r)^{-N-1}}{\\lim_{r \\to 0}1} = N $\n",
    "\n"
   ]
  },
  {
   "cell_type": "code",
   "execution_count": 431,
   "metadata": {
    "collapsed": false
   },
   "outputs": [],
   "source": [
    "def mortgageMultiplier(r, n):\n",
    "    d = 1 - (1+r)**(-n)\n",
    "    return r/d\n",
    "\n",
    "\"\"\"\n",
    " ref: https://en.wikipedia.org/wiki/Mortgage_calculator#Monthly_payment_formula\n",
    "\"\"\"\n",
    "def mortgageRepayment(p, r, n):\n",
    "    return p * mortgageMultiplier(r, n)"
   ]
  },
  {
   "cell_type": "code",
   "execution_count": 432,
   "metadata": {
    "collapsed": false
   },
   "outputs": [
    {
     "name": "stdout",
     "output_type": "stream",
     "text": [
      "True\n",
      "True\n",
      "True\n",
      "True\n"
     ]
    }
   ],
   "source": [
    "# test of the above\n",
    "p = 100000\n",
    "r = 3.92/100/12\n",
    "N = 25*12\n",
    "m1 = mortgageRepayment(p, r, N)\n",
    "print(np.round(m1) == 523)\n",
    "print(np.round(m1*N) == 157029)\n",
    "\n",
    "# test here\n",
    "p = 1000000\n",
    "r = 1/100/12\n",
    "N = 20*12\n",
    "m2 = mortgageRepayment(1000000, 1./100/12, 20*12)\n",
    "print(np.round(m2) == 4599)\n",
    "print(np.round(m2*N) == 1103746)\n"
   ]
  },
  {
   "cell_type": "markdown",
   "metadata": {},
   "source": [
    "### Total cost of the mortgage\n",
    "\n",
    "$\\text{total cost} = cN$"
   ]
  },
  {
   "cell_type": "markdown",
   "metadata": {},
   "source": [
    "### Total interest paid\n",
    "\n",
    "the total amount of interest paid will hence be\n",
    "\n",
    "$I = cN - p$"
   ]
  },
  {
   "cell_type": "markdown",
   "metadata": {},
   "source": [
    "### Interest paid at time $n$\n",
    "\n",
    "note the symbol $\\delta$ used for interest (force of interest: https://en.wikipedia.org/wiki/Compound_interest#Force_of_interest)\n",
    "\n",
    "$\\delta_n = rm_n = (pr -c)(1+r)^n + c = pr(1+r)^n - c((1+r)^n-1) $"
   ]
  },
  {
   "cell_type": "code",
   "execution_count": 433,
   "metadata": {
    "collapsed": true
   },
   "outputs": [],
   "source": [
    "def interestAtN(p, c, r, n):\n",
    "    return dueAtN(p, c, r, n)*r"
   ]
  },
  {
   "cell_type": "markdown",
   "metadata": {},
   "source": [
    "### Cumulative interest paid until $n$\n",
    "\n",
    "$\\sum_{k=0}^{n-1} \\delta_k = \\sum_{k=0}^{n-1} \\left(pr(1+r)^k - c((1+r)^k-1)\\right) = \\sum_{k=0}^{n-1} \\left((pr-c)\n",
    "(1+r)^k +c\\right)= \\sum_{k=0}^{n-1} (pr-c)(1+r)^k +\\sum_{k=0}^{n-1}c$"
   ]
  },
  {
   "cell_type": "code",
   "execution_count": 434,
   "metadata": {
    "collapsed": true
   },
   "outputs": [],
   "source": [
    "\"\"\"\n",
    "cumulative interests\n",
    "\n",
    "\"\"\"\n",
    "def interestAtN(p, c, r, n):\n",
    "    return (p*r - c)*((1+r)**n-1)/r + c*n"
   ]
  },
  {
   "cell_type": "markdown",
   "metadata": {},
   "source": [
    "we can find $I$ again by setting $n=N$\n",
    "\n",
    "// p(1+r)^N - 1 \\left[1- \\frac{1}{1-(1+r)^{-N}}\\right]  + cN\n",
    "\n",
    "$I = \\sum_{k=0}^{N-1} \\delta_k =(pr-c)\\frac{(1+r)^N - 1}{r} + cN= ... = -p + cN$"
   ]
  },
  {
   "cell_type": "code",
   "execution_count": 435,
   "metadata": {
    "collapsed": false
   },
   "outputs": [
    {
     "name": "stdout",
     "output_type": "stream",
     "text": [
      "principal of 880.0\n"
     ]
    }
   ],
   "source": [
    "# defining principal\n",
    "pricehouse = 1000\n",
    "downpaymentP = .2\n",
    "fixCostP = .1\n",
    "fixCost = pricehouse * fixCostP\n",
    "totalCost = pricehouse*(1+fixCostP)\n",
    "downpayment = totalCost*downpaymentP\n",
    "principal = totalCost - downpayment\n",
    "print('principal of {}'.format(principal))"
   ]
  },
  {
   "cell_type": "code",
   "execution_count": 436,
   "metadata": {
    "collapsed": false
   },
   "outputs": [
    {
     "name": "stdout",
     "output_type": "stream",
     "text": [
      "yearly interest of 3.39% and monthly of 0.28%\n"
     ]
    }
   ],
   "source": [
    "# interest\n",
    "rYearly = .0339\n",
    "r = rYearly / 12\n",
    "\n",
    "print('yearly interest of {}% and monthly of {}%'.format(np.round(100*rYearly, 2), np.round(100*r, 2)))"
   ]
  },
  {
   "cell_type": "code",
   "execution_count": 437,
   "metadata": {
    "collapsed": false
   },
   "outputs": [
    {
     "name": "stdout",
     "output_type": "stream",
     "text": [
      "N=30 years and 12N=360 months\n"
     ]
    }
   ],
   "source": [
    "# loan duration\n",
    "NYear = 30\n",
    "N = int(NYear * 12)\n",
    "\n",
    "print('N={} years and 12N={} months'.format(NYear, N))"
   ]
  },
  {
   "cell_type": "code",
   "execution_count": 438,
   "metadata": {
    "collapsed": true
   },
   "outputs": [],
   "source": [
    "# income\n",
    "rent = 15"
   ]
  },
  {
   "cell_type": "code",
   "execution_count": 439,
   "metadata": {
    "collapsed": true
   },
   "outputs": [],
   "source": [
    "# cost\n",
    "cost = rent * .15"
   ]
  },
  {
   "cell_type": "code",
   "execution_count": 440,
   "metadata": {
    "collapsed": false
   },
   "outputs": [
    {
     "data": {
      "text/plain": [
       "0.6954545454545454"
      ]
     },
     "execution_count": 440,
     "metadata": {},
     "output_type": "execute_result"
    }
   ],
   "source": [
    "profitMonth = rent - cost\n",
    "profit = profitMonth * 12\n",
    "returnYearly = profit/downpayment\n",
    "returnYearly"
   ]
  },
  {
   "cell_type": "code",
   "execution_count": 441,
   "metadata": {
    "collapsed": true
   },
   "outputs": [],
   "source": [
    "import pandas as pd"
   ]
  },
  {
   "cell_type": "code",
   "execution_count": 442,
   "metadata": {
    "collapsed": false
   },
   "outputs": [
    {
     "data": {
      "text/plain": [
       "3.8977570981111955"
      ]
     },
     "execution_count": 442,
     "metadata": {},
     "output_type": "execute_result"
    }
   ],
   "source": [
    "# mortgage repayment\n",
    "monthlyRepayment = mortgageRepayment(principal, r, N)\n",
    "monthlyRepayment"
   ]
  },
  {
   "cell_type": "code",
   "execution_count": 443,
   "metadata": {
    "collapsed": false
   },
   "outputs": [
    {
     "name": "stdout",
     "output_type": "stream",
     "text": [
      "total interest: 523.0 or 523.0\n",
      "total equity: 880.0 or 880.0\n"
     ]
    },
    {
     "data": {
      "text/html": [
       "<div>\n",
       "<style>\n",
       "    .dataframe thead tr:only-child th {\n",
       "        text-align: right;\n",
       "    }\n",
       "\n",
       "    .dataframe thead th {\n",
       "        text-align: left;\n",
       "    }\n",
       "\n",
       "    .dataframe tbody tr th {\n",
       "        vertical-align: top;\n",
       "    }\n",
       "</style>\n",
       "<table border=\"1\" class=\"dataframe\">\n",
       "  <thead>\n",
       "    <tr style=\"text-align: right;\">\n",
       "      <th></th>\n",
       "      <th>mortgage</th>\n",
       "      <th>interest rent share</th>\n",
       "      <th>equity rent share</th>\n",
       "      <th>still due</th>\n",
       "    </tr>\n",
       "  </thead>\n",
       "  <tbody>\n",
       "    <tr>\n",
       "      <th>0</th>\n",
       "      <td>3.897757</td>\n",
       "      <td>2.486000</td>\n",
       "      <td>1.411757</td>\n",
       "      <td>880.000000</td>\n",
       "    </tr>\n",
       "    <tr>\n",
       "      <th>1</th>\n",
       "      <td>3.897757</td>\n",
       "      <td>2.482012</td>\n",
       "      <td>1.415745</td>\n",
       "      <td>878.588243</td>\n",
       "    </tr>\n",
       "    <tr>\n",
       "      <th>2</th>\n",
       "      <td>3.897757</td>\n",
       "      <td>2.478012</td>\n",
       "      <td>1.419745</td>\n",
       "      <td>877.172498</td>\n",
       "    </tr>\n",
       "    <tr>\n",
       "      <th>3</th>\n",
       "      <td>3.897757</td>\n",
       "      <td>2.474002</td>\n",
       "      <td>1.423756</td>\n",
       "      <td>875.752753</td>\n",
       "    </tr>\n",
       "    <tr>\n",
       "      <th>4</th>\n",
       "      <td>3.897757</td>\n",
       "      <td>2.469979</td>\n",
       "      <td>1.427778</td>\n",
       "      <td>874.328997</td>\n",
       "    </tr>\n",
       "    <tr>\n",
       "      <th>5</th>\n",
       "      <td>3.897757</td>\n",
       "      <td>2.465946</td>\n",
       "      <td>1.431811</td>\n",
       "      <td>872.901220</td>\n",
       "    </tr>\n",
       "    <tr>\n",
       "      <th>6</th>\n",
       "      <td>3.897757</td>\n",
       "      <td>2.461901</td>\n",
       "      <td>1.435856</td>\n",
       "      <td>871.469408</td>\n",
       "    </tr>\n",
       "    <tr>\n",
       "      <th>7</th>\n",
       "      <td>3.897757</td>\n",
       "      <td>2.457845</td>\n",
       "      <td>1.439912</td>\n",
       "      <td>870.033552</td>\n",
       "    </tr>\n",
       "    <tr>\n",
       "      <th>8</th>\n",
       "      <td>3.897757</td>\n",
       "      <td>2.453777</td>\n",
       "      <td>1.443980</td>\n",
       "      <td>868.593640</td>\n",
       "    </tr>\n",
       "    <tr>\n",
       "      <th>9</th>\n",
       "      <td>3.897757</td>\n",
       "      <td>2.449698</td>\n",
       "      <td>1.448059</td>\n",
       "      <td>867.149660</td>\n",
       "    </tr>\n",
       "    <tr>\n",
       "      <th>10</th>\n",
       "      <td>3.897757</td>\n",
       "      <td>2.445607</td>\n",
       "      <td>1.452150</td>\n",
       "      <td>865.701601</td>\n",
       "    </tr>\n",
       "    <tr>\n",
       "      <th>11</th>\n",
       "      <td>3.897757</td>\n",
       "      <td>2.441505</td>\n",
       "      <td>1.456252</td>\n",
       "      <td>864.249451</td>\n",
       "    </tr>\n",
       "    <tr>\n",
       "      <th>12</th>\n",
       "      <td>3.897757</td>\n",
       "      <td>2.437391</td>\n",
       "      <td>1.460366</td>\n",
       "      <td>862.793198</td>\n",
       "    </tr>\n",
       "    <tr>\n",
       "      <th>13</th>\n",
       "      <td>3.897757</td>\n",
       "      <td>2.433265</td>\n",
       "      <td>1.464492</td>\n",
       "      <td>861.332832</td>\n",
       "    </tr>\n",
       "    <tr>\n",
       "      <th>14</th>\n",
       "      <td>3.897757</td>\n",
       "      <td>2.429128</td>\n",
       "      <td>1.468629</td>\n",
       "      <td>859.868340</td>\n",
       "    </tr>\n",
       "    <tr>\n",
       "      <th>15</th>\n",
       "      <td>3.897757</td>\n",
       "      <td>2.424979</td>\n",
       "      <td>1.472778</td>\n",
       "      <td>858.399711</td>\n",
       "    </tr>\n",
       "    <tr>\n",
       "      <th>16</th>\n",
       "      <td>3.897757</td>\n",
       "      <td>2.420819</td>\n",
       "      <td>1.476939</td>\n",
       "      <td>856.926933</td>\n",
       "    </tr>\n",
       "    <tr>\n",
       "      <th>17</th>\n",
       "      <td>3.897757</td>\n",
       "      <td>2.416646</td>\n",
       "      <td>1.481111</td>\n",
       "      <td>855.449995</td>\n",
       "    </tr>\n",
       "    <tr>\n",
       "      <th>18</th>\n",
       "      <td>3.897757</td>\n",
       "      <td>2.412462</td>\n",
       "      <td>1.485295</td>\n",
       "      <td>853.968884</td>\n",
       "    </tr>\n",
       "    <tr>\n",
       "      <th>19</th>\n",
       "      <td>3.897757</td>\n",
       "      <td>2.408266</td>\n",
       "      <td>1.489491</td>\n",
       "      <td>852.483589</td>\n",
       "    </tr>\n",
       "    <tr>\n",
       "      <th>20</th>\n",
       "      <td>3.897757</td>\n",
       "      <td>2.404058</td>\n",
       "      <td>1.493699</td>\n",
       "      <td>850.994098</td>\n",
       "    </tr>\n",
       "    <tr>\n",
       "      <th>21</th>\n",
       "      <td>3.897757</td>\n",
       "      <td>2.399839</td>\n",
       "      <td>1.497918</td>\n",
       "      <td>849.500399</td>\n",
       "    </tr>\n",
       "    <tr>\n",
       "      <th>22</th>\n",
       "      <td>3.897757</td>\n",
       "      <td>2.395607</td>\n",
       "      <td>1.502150</td>\n",
       "      <td>848.002481</td>\n",
       "    </tr>\n",
       "    <tr>\n",
       "      <th>23</th>\n",
       "      <td>3.897757</td>\n",
       "      <td>2.391363</td>\n",
       "      <td>1.506394</td>\n",
       "      <td>846.500330</td>\n",
       "    </tr>\n",
       "    <tr>\n",
       "      <th>24</th>\n",
       "      <td>3.897757</td>\n",
       "      <td>2.387108</td>\n",
       "      <td>1.510649</td>\n",
       "      <td>844.993937</td>\n",
       "    </tr>\n",
       "    <tr>\n",
       "      <th>25</th>\n",
       "      <td>3.897757</td>\n",
       "      <td>2.382840</td>\n",
       "      <td>1.514917</td>\n",
       "      <td>843.483288</td>\n",
       "    </tr>\n",
       "    <tr>\n",
       "      <th>26</th>\n",
       "      <td>3.897757</td>\n",
       "      <td>2.378561</td>\n",
       "      <td>1.519196</td>\n",
       "      <td>841.968371</td>\n",
       "    </tr>\n",
       "    <tr>\n",
       "      <th>27</th>\n",
       "      <td>3.897757</td>\n",
       "      <td>2.374269</td>\n",
       "      <td>1.523488</td>\n",
       "      <td>840.449174</td>\n",
       "    </tr>\n",
       "    <tr>\n",
       "      <th>28</th>\n",
       "      <td>3.897757</td>\n",
       "      <td>2.369965</td>\n",
       "      <td>1.527792</td>\n",
       "      <td>838.925686</td>\n",
       "    </tr>\n",
       "    <tr>\n",
       "      <th>29</th>\n",
       "      <td>3.897757</td>\n",
       "      <td>2.365649</td>\n",
       "      <td>1.532108</td>\n",
       "      <td>837.397894</td>\n",
       "    </tr>\n",
       "    <tr>\n",
       "      <th>...</th>\n",
       "      <td>...</td>\n",
       "      <td>...</td>\n",
       "      <td>...</td>\n",
       "      <td>...</td>\n",
       "    </tr>\n",
       "    <tr>\n",
       "      <th>330</th>\n",
       "      <td>3.897757</td>\n",
       "      <td>0.316296</td>\n",
       "      <td>3.581461</td>\n",
       "      <td>111.963282</td>\n",
       "    </tr>\n",
       "    <tr>\n",
       "      <th>331</th>\n",
       "      <td>3.897757</td>\n",
       "      <td>0.306179</td>\n",
       "      <td>3.591578</td>\n",
       "      <td>108.381821</td>\n",
       "    </tr>\n",
       "    <tr>\n",
       "      <th>332</th>\n",
       "      <td>3.897757</td>\n",
       "      <td>0.296032</td>\n",
       "      <td>3.601725</td>\n",
       "      <td>104.790243</td>\n",
       "    </tr>\n",
       "    <tr>\n",
       "      <th>333</th>\n",
       "      <td>3.897757</td>\n",
       "      <td>0.285858</td>\n",
       "      <td>3.611900</td>\n",
       "      <td>101.188518</td>\n",
       "    </tr>\n",
       "    <tr>\n",
       "      <th>334</th>\n",
       "      <td>3.897757</td>\n",
       "      <td>0.275654</td>\n",
       "      <td>3.622103</td>\n",
       "      <td>97.576619</td>\n",
       "    </tr>\n",
       "    <tr>\n",
       "      <th>335</th>\n",
       "      <td>3.897757</td>\n",
       "      <td>0.265422</td>\n",
       "      <td>3.632336</td>\n",
       "      <td>93.954516</td>\n",
       "    </tr>\n",
       "    <tr>\n",
       "      <th>336</th>\n",
       "      <td>3.897757</td>\n",
       "      <td>0.255160</td>\n",
       "      <td>3.642597</td>\n",
       "      <td>90.322180</td>\n",
       "    </tr>\n",
       "    <tr>\n",
       "      <th>337</th>\n",
       "      <td>3.897757</td>\n",
       "      <td>0.244870</td>\n",
       "      <td>3.652887</td>\n",
       "      <td>86.679583</td>\n",
       "    </tr>\n",
       "    <tr>\n",
       "      <th>338</th>\n",
       "      <td>3.897757</td>\n",
       "      <td>0.234550</td>\n",
       "      <td>3.663207</td>\n",
       "      <td>83.026696</td>\n",
       "    </tr>\n",
       "    <tr>\n",
       "      <th>339</th>\n",
       "      <td>3.897757</td>\n",
       "      <td>0.224202</td>\n",
       "      <td>3.673555</td>\n",
       "      <td>79.363489</td>\n",
       "    </tr>\n",
       "    <tr>\n",
       "      <th>340</th>\n",
       "      <td>3.897757</td>\n",
       "      <td>0.213824</td>\n",
       "      <td>3.683933</td>\n",
       "      <td>75.689934</td>\n",
       "    </tr>\n",
       "    <tr>\n",
       "      <th>341</th>\n",
       "      <td>3.897757</td>\n",
       "      <td>0.203417</td>\n",
       "      <td>3.694340</td>\n",
       "      <td>72.006001</td>\n",
       "    </tr>\n",
       "    <tr>\n",
       "      <th>342</th>\n",
       "      <td>3.897757</td>\n",
       "      <td>0.192980</td>\n",
       "      <td>3.704777</td>\n",
       "      <td>68.311661</td>\n",
       "    </tr>\n",
       "    <tr>\n",
       "      <th>343</th>\n",
       "      <td>3.897757</td>\n",
       "      <td>0.182514</td>\n",
       "      <td>3.715243</td>\n",
       "      <td>64.606884</td>\n",
       "    </tr>\n",
       "    <tr>\n",
       "      <th>344</th>\n",
       "      <td>3.897757</td>\n",
       "      <td>0.172019</td>\n",
       "      <td>3.725738</td>\n",
       "      <td>60.891641</td>\n",
       "    </tr>\n",
       "    <tr>\n",
       "      <th>345</th>\n",
       "      <td>3.897757</td>\n",
       "      <td>0.161494</td>\n",
       "      <td>3.736263</td>\n",
       "      <td>57.165903</td>\n",
       "    </tr>\n",
       "    <tr>\n",
       "      <th>346</th>\n",
       "      <td>3.897757</td>\n",
       "      <td>0.150939</td>\n",
       "      <td>3.746818</td>\n",
       "      <td>53.429640</td>\n",
       "    </tr>\n",
       "    <tr>\n",
       "      <th>347</th>\n",
       "      <td>3.897757</td>\n",
       "      <td>0.140354</td>\n",
       "      <td>3.757403</td>\n",
       "      <td>49.682821</td>\n",
       "    </tr>\n",
       "    <tr>\n",
       "      <th>348</th>\n",
       "      <td>3.897757</td>\n",
       "      <td>0.129739</td>\n",
       "      <td>3.768018</td>\n",
       "      <td>45.925418</td>\n",
       "    </tr>\n",
       "    <tr>\n",
       "      <th>349</th>\n",
       "      <td>3.897757</td>\n",
       "      <td>0.119095</td>\n",
       "      <td>3.778662</td>\n",
       "      <td>42.157401</td>\n",
       "    </tr>\n",
       "    <tr>\n",
       "      <th>350</th>\n",
       "      <td>3.897757</td>\n",
       "      <td>0.108420</td>\n",
       "      <td>3.789337</td>\n",
       "      <td>38.378738</td>\n",
       "    </tr>\n",
       "    <tr>\n",
       "      <th>351</th>\n",
       "      <td>3.897757</td>\n",
       "      <td>0.097715</td>\n",
       "      <td>3.800042</td>\n",
       "      <td>34.589401</td>\n",
       "    </tr>\n",
       "    <tr>\n",
       "      <th>352</th>\n",
       "      <td>3.897757</td>\n",
       "      <td>0.086980</td>\n",
       "      <td>3.810777</td>\n",
       "      <td>30.789359</td>\n",
       "    </tr>\n",
       "    <tr>\n",
       "      <th>353</th>\n",
       "      <td>3.897757</td>\n",
       "      <td>0.076214</td>\n",
       "      <td>3.821543</td>\n",
       "      <td>26.978582</td>\n",
       "    </tr>\n",
       "    <tr>\n",
       "      <th>354</th>\n",
       "      <td>3.897757</td>\n",
       "      <td>0.065419</td>\n",
       "      <td>3.832338</td>\n",
       "      <td>23.157039</td>\n",
       "    </tr>\n",
       "    <tr>\n",
       "      <th>355</th>\n",
       "      <td>3.897757</td>\n",
       "      <td>0.054592</td>\n",
       "      <td>3.843165</td>\n",
       "      <td>19.324701</td>\n",
       "    </tr>\n",
       "    <tr>\n",
       "      <th>356</th>\n",
       "      <td>3.897757</td>\n",
       "      <td>0.043735</td>\n",
       "      <td>3.854022</td>\n",
       "      <td>15.481536</td>\n",
       "    </tr>\n",
       "    <tr>\n",
       "      <th>357</th>\n",
       "      <td>3.897757</td>\n",
       "      <td>0.032848</td>\n",
       "      <td>3.864909</td>\n",
       "      <td>11.627514</td>\n",
       "    </tr>\n",
       "    <tr>\n",
       "      <th>358</th>\n",
       "      <td>3.897757</td>\n",
       "      <td>0.021929</td>\n",
       "      <td>3.875828</td>\n",
       "      <td>7.762605</td>\n",
       "    </tr>\n",
       "    <tr>\n",
       "      <th>359</th>\n",
       "      <td>3.897757</td>\n",
       "      <td>0.010980</td>\n",
       "      <td>3.886777</td>\n",
       "      <td>3.886777</td>\n",
       "    </tr>\n",
       "  </tbody>\n",
       "</table>\n",
       "<p>360 rows × 4 columns</p>\n",
       "</div>"
      ],
      "text/plain": [
       "     mortgage  interest rent share  equity rent share   still due\n",
       "0    3.897757             2.486000           1.411757  880.000000\n",
       "1    3.897757             2.482012           1.415745  878.588243\n",
       "2    3.897757             2.478012           1.419745  877.172498\n",
       "3    3.897757             2.474002           1.423756  875.752753\n",
       "4    3.897757             2.469979           1.427778  874.328997\n",
       "5    3.897757             2.465946           1.431811  872.901220\n",
       "6    3.897757             2.461901           1.435856  871.469408\n",
       "7    3.897757             2.457845           1.439912  870.033552\n",
       "8    3.897757             2.453777           1.443980  868.593640\n",
       "9    3.897757             2.449698           1.448059  867.149660\n",
       "10   3.897757             2.445607           1.452150  865.701601\n",
       "11   3.897757             2.441505           1.456252  864.249451\n",
       "12   3.897757             2.437391           1.460366  862.793198\n",
       "13   3.897757             2.433265           1.464492  861.332832\n",
       "14   3.897757             2.429128           1.468629  859.868340\n",
       "15   3.897757             2.424979           1.472778  858.399711\n",
       "16   3.897757             2.420819           1.476939  856.926933\n",
       "17   3.897757             2.416646           1.481111  855.449995\n",
       "18   3.897757             2.412462           1.485295  853.968884\n",
       "19   3.897757             2.408266           1.489491  852.483589\n",
       "20   3.897757             2.404058           1.493699  850.994098\n",
       "21   3.897757             2.399839           1.497918  849.500399\n",
       "22   3.897757             2.395607           1.502150  848.002481\n",
       "23   3.897757             2.391363           1.506394  846.500330\n",
       "24   3.897757             2.387108           1.510649  844.993937\n",
       "25   3.897757             2.382840           1.514917  843.483288\n",
       "26   3.897757             2.378561           1.519196  841.968371\n",
       "27   3.897757             2.374269           1.523488  840.449174\n",
       "28   3.897757             2.369965           1.527792  838.925686\n",
       "29   3.897757             2.365649           1.532108  837.397894\n",
       "..        ...                  ...                ...         ...\n",
       "330  3.897757             0.316296           3.581461  111.963282\n",
       "331  3.897757             0.306179           3.591578  108.381821\n",
       "332  3.897757             0.296032           3.601725  104.790243\n",
       "333  3.897757             0.285858           3.611900  101.188518\n",
       "334  3.897757             0.275654           3.622103   97.576619\n",
       "335  3.897757             0.265422           3.632336   93.954516\n",
       "336  3.897757             0.255160           3.642597   90.322180\n",
       "337  3.897757             0.244870           3.652887   86.679583\n",
       "338  3.897757             0.234550           3.663207   83.026696\n",
       "339  3.897757             0.224202           3.673555   79.363489\n",
       "340  3.897757             0.213824           3.683933   75.689934\n",
       "341  3.897757             0.203417           3.694340   72.006001\n",
       "342  3.897757             0.192980           3.704777   68.311661\n",
       "343  3.897757             0.182514           3.715243   64.606884\n",
       "344  3.897757             0.172019           3.725738   60.891641\n",
       "345  3.897757             0.161494           3.736263   57.165903\n",
       "346  3.897757             0.150939           3.746818   53.429640\n",
       "347  3.897757             0.140354           3.757403   49.682821\n",
       "348  3.897757             0.129739           3.768018   45.925418\n",
       "349  3.897757             0.119095           3.778662   42.157401\n",
       "350  3.897757             0.108420           3.789337   38.378738\n",
       "351  3.897757             0.097715           3.800042   34.589401\n",
       "352  3.897757             0.086980           3.810777   30.789359\n",
       "353  3.897757             0.076214           3.821543   26.978582\n",
       "354  3.897757             0.065419           3.832338   23.157039\n",
       "355  3.897757             0.054592           3.843165   19.324701\n",
       "356  3.897757             0.043735           3.854022   15.481536\n",
       "357  3.897757             0.032848           3.864909   11.627514\n",
       "358  3.897757             0.021929           3.875828    7.762605\n",
       "359  3.897757             0.010980           3.886777    3.886777\n",
       "\n",
       "[360 rows x 4 columns]"
      ]
     },
     "execution_count": 443,
     "metadata": {},
     "output_type": "execute_result"
    }
   ],
   "source": [
    "mortgage = np.ones(N)*monthlyRepayment\n",
    "\n",
    "interestRentShare = r*dueAtN(principal, monthlyRepayment, r, np.arange(N) )\n",
    "equityRentShare = mortgage - interestRentShare\n",
    "\n",
    "d = {'mortgage': mortgage, }\n",
    "df = pd.DataFrame(data=d)\n",
    "\n",
    "df.insert(1,'interest rent share', interestRentShare, True)\n",
    "df.insert(2,'equity rent share', equityRentShare, True)\n",
    "df.insert(3,'still due', dueAtN(principal, monthlyRepayment, r, np.arange(N) ), True)\n",
    "\n",
    "totalInterest = monthlyRepayment * N - principal\n",
    "\n",
    "print('total interest: {} or {}'.format(np.round(np.sum(interestRentShare)), np.round(monthlyRepayment * N - principal)))\n",
    "print('total equity: {} or {}'.format(np.round(np.sum(equityRentShare)), principal))\n",
    "\n",
    "df"
   ]
  },
  {
   "cell_type": "code",
   "execution_count": 472,
   "metadata": {
    "collapsed": false
   },
   "outputs": [
    {
     "data": {
      "text/html": [
       "\n",
       "\n",
       "<style>\n",
       "\n",
       "</style>\n",
       "\n",
       "<div id=\"fig_el5570747420902008393870863\"></div>\n",
       "<script>\n",
       "function mpld3_load_lib(url, callback){\n",
       "  var s = document.createElement('script');\n",
       "  s.src = url;\n",
       "  s.async = true;\n",
       "  s.onreadystatechange = s.onload = callback;\n",
       "  s.onerror = function(){console.warn(\"failed to load library \" + url);};\n",
       "  document.getElementsByTagName(\"head\")[0].appendChild(s);\n",
       "}\n",
       "\n",
       "if(typeof(mpld3) !== \"undefined\" && mpld3._mpld3IsLoaded){\n",
       "   // already loaded: just create the figure\n",
       "   !function(mpld3){\n",
       "       \n",
       "       mpld3.draw_figure(\"fig_el5570747420902008393870863\", {\"axes\": [{\"ydomain\": [-0.046901253957569757, 1.0469012539575697], \"paths\": [{\"yindex\": 1, \"xindex\": 0, \"alpha\": 0.8, \"dasharray\": \"none\", \"id\": \"el557074766388968\", \"edgecolor\": \"#CCCCCC\", \"zorder\": 1000000.0, \"coordinates\": \"axes\", \"facecolor\": \"#FFFFFF\", \"pathcodes\": [\"M\", \"L\", \"S\", \"L\", \"S\", \"L\", \"S\", \"L\", \"S\", \"Z\"], \"edgewidth\": 1.0, \"data\": \"data03\"}], \"axes\": [{\"tickvalues\": null, \"tickformat\": null, \"fontsize\": 10.0, \"position\": \"bottom\", \"grid\": {\"gridOn\": false}, \"nticks\": 10, \"visible\": true, \"scale\": \"linear\"}, {\"tickvalues\": null, \"tickformat\": null, \"fontsize\": 10.0, \"position\": \"left\", \"grid\": {\"gridOn\": false}, \"nticks\": 8, \"visible\": true, \"scale\": \"linear\"}], \"axesbgalpha\": null, \"xlim\": [-17.95, 376.95], \"id\": \"el557074746929264\", \"yscale\": \"linear\", \"ylim\": [-0.046901253957569757, 1.0469012539575697], \"zoomable\": true, \"bbox\": [0.125, 0.125, 0.775, 0.755], \"axesbg\": \"#FFFFFF\", \"sharey\": [], \"xdomain\": [-17.95, 376.95], \"sharex\": [], \"images\": [], \"collections\": [], \"markers\": [], \"lines\": [{\"data\": \"data01\", \"linewidth\": 1.5, \"zorder\": 2, \"coordinates\": \"data\", \"drawstyle\": \"default\", \"xindex\": 0, \"alpha\": 1, \"dasharray\": \"none\", \"yindex\": 1, \"color\": \"#0000FF\", \"id\": \"el557074742088352\"}, {\"data\": \"data01\", \"linewidth\": 1.5, \"zorder\": 2, \"coordinates\": \"data\", \"drawstyle\": \"default\", \"xindex\": 0, \"alpha\": 1, \"dasharray\": \"none\", \"yindex\": 2, \"color\": \"#FF0000\", \"id\": \"el557074738760776\"}, {\"data\": \"data01\", \"linewidth\": 1.5, \"zorder\": 2, \"coordinates\": \"data\", \"drawstyle\": \"default\", \"xindex\": 0, \"alpha\": 1, \"dasharray\": \"none\", \"yindex\": 1, \"color\": \"#0000FF\", \"id\": \"el557074676621200\"}, {\"data\": \"data01\", \"linewidth\": 1.5, \"zorder\": 2, \"coordinates\": \"data\", \"drawstyle\": \"default\", \"xindex\": 0, \"alpha\": 1, \"dasharray\": \"none\", \"yindex\": 2, \"color\": \"#FF0000\", \"id\": \"el557074733108176\"}, {\"data\": \"data02\", \"linewidth\": 1.5, \"zorder\": 1000002.0, \"coordinates\": \"axes\", \"drawstyle\": \"default\", \"xindex\": 0, \"alpha\": 1, \"dasharray\": \"none\", \"yindex\": 1, \"color\": \"#0000FF\", \"id\": \"el557074766390704\"}, {\"data\": \"data02\", \"linewidth\": 1.5, \"zorder\": 1000002.0, \"coordinates\": \"axes\", \"drawstyle\": \"default\", \"xindex\": 0, \"alpha\": 1, \"dasharray\": \"none\", \"yindex\": 2, \"color\": \"#FF0000\", \"id\": \"el557074771593240\"}, {\"data\": \"data02\", \"linewidth\": 1.5, \"zorder\": 1000002.0, \"coordinates\": \"axes\", \"drawstyle\": \"default\", \"xindex\": 0, \"alpha\": 1, \"dasharray\": \"none\", \"yindex\": 3, \"color\": \"#0000FF\", \"id\": \"el557074733042472\"}, {\"data\": \"data02\", \"linewidth\": 1.5, \"zorder\": 1000002.0, \"coordinates\": \"axes\", \"drawstyle\": \"default\", \"xindex\": 0, \"alpha\": 1, \"dasharray\": \"none\", \"yindex\": 4, \"color\": \"#FF0000\", \"id\": \"el557074733107168\"}], \"xscale\": \"linear\", \"texts\": [{\"fontsize\": 12.0, \"rotation\": -0.0, \"h_anchor\": \"middle\", \"zorder\": 3, \"color\": \"#000000\", \"id\": \"el557074742191200\", \"text\": \"Evolution of the equity/interest share paid over time\", \"coordinates\": \"axes\", \"position\": [0.49999999999999994, 1.0275938189845473], \"alpha\": 1, \"v_baseline\": \"auto\"}, {\"fontsize\": 10.0, \"rotation\": -0.0, \"h_anchor\": \"start\", \"zorder\": 1000003.0, \"color\": \"#000000\", \"id\": \"el557074766389640\", \"text\": \"interest rent share\", \"coordinates\": \"axes\", \"position\": [0.11051373954599761, 0.9218175128771156], \"alpha\": 1, \"v_baseline\": \"auto\"}, {\"fontsize\": 10.0, \"rotation\": -0.0, \"h_anchor\": \"start\", \"zorder\": 1000003.0, \"color\": \"#000000\", \"id\": \"el557074771593072\", \"text\": \"equity rent share\", \"coordinates\": \"axes\", \"position\": [0.11051373954599761, 0.8528329654157469], \"alpha\": 1, \"v_baseline\": \"auto\"}, {\"fontsize\": 10.0, \"rotation\": -0.0, \"h_anchor\": \"start\", \"zorder\": 1000003.0, \"color\": \"#000000\", \"id\": \"el557074757941272\", \"text\": \"interest rent share\", \"coordinates\": \"axes\", \"position\": [0.11051373954599761, 0.7838484179543781], \"alpha\": 1, \"v_baseline\": \"auto\"}, {\"fontsize\": 10.0, \"rotation\": -0.0, \"h_anchor\": \"start\", \"zorder\": 1000003.0, \"color\": \"#000000\", \"id\": \"el557074737915032\", \"text\": \"equity rent share\", \"coordinates\": \"axes\", \"position\": [0.11051373954599761, 0.7148638704930095], \"alpha\": 1, \"v_baseline\": \"auto\"}]}], \"width\": 432.0, \"height\": 288.0, \"plugins\": [{\"type\": \"reset\"}, {\"enabled\": false, \"button\": true, \"type\": \"zoom\"}, {\"enabled\": false, \"button\": true, \"type\": \"boxzoom\"}], \"data\": {\"data03\": [[0.020908004778972505, 0.687270051508462], [0.39538530465949817, 0.687270051508462], [0.4013590203106332, 0.687270051508462], [0.4013590203106332, 0.6964679911699778], [0.4013590203106332, 0.9678072111846947], [0.4013590203106332, 0.9770051508462105], [0.39538530465949817, 0.9770051508462105], [0.020908004778972505, 0.9770051508462105], [0.014934289127837508, 0.9770051508462105], [0.014934289127837508, 0.9678072111846947], [0.014934289127837508, 0.6964679911699778], [0.014934289127837508, 0.687270051508462], [0.020908004778972505, 0.687270051508462]], \"data01\": [[0.0, 0.6378026997127872, 0.36219730028721275], [1.0, 0.6367794923394758, 0.36322050766052416], [2.0, 0.6357533944053347, 0.3642466055946652], [3.0, 0.6347243977445298, 0.3652756022554702], [4.0, 0.6336924941681581, 0.36630750583184185], [5.0, 0.6326576754641832, 0.3673423245358169], [6.0, 0.6316199333973694, 0.3683800666026305], [7.0, 0.630579259709217, 0.3694207402907829], [8.0, 0.6295356461178956, 0.37046435388210447], [9.0, 0.6284890843181786, 0.3715109156818214], [10.0, 0.6274395659813774, 0.37256043401862265], [11.0, 0.6263870827552747, 0.3736129172447254], [12.0, 0.6253316262640582, 0.37466837373594175], [13.0, 0.6242731881082543, 0.3757268118917457], [14.0, 0.62321175986466, 0.37678824013533996], [15.0, 0.6221473330862777, 0.37785266691372227], [16.0, 0.6210798993022465, 0.3789201006977535], [17.0, 0.6200094500177752, 0.3799905499822248], [18.0, 0.6189359767140753, 0.3810640232859247], [19.0, 0.6178594708482925, 0.3821405291517075], [20.0, 0.6167799238534389, 0.38322007614656106], [21.0, 0.615697327138325, 0.38430267286167497], [22.0, 0.6146116720874907, 0.3853883279125093], [23.0, 0.6135229500611379, 0.38647704993886217], [24.0, 0.6124311523950604, 0.38756884760493954], [25.0, 0.6113362704005766, 0.3886637295994234], [26.0, 0.6102382953644582, 0.3897617046355419], [27.0, 0.6091372185488626, 0.39086278145113734], [28.0, 0.6080330311912633, 0.3919669688087367], [29.0, 0.6069257245043784, 0.3930742754956216], [30.0, 0.6058152896761033, 0.3941847103238967], [31.0, 0.6047017178694383, 0.3952982821305618], [32.0, 0.6035850002224195, 0.3964149997775806], [33.0, 0.6024651278480477, 0.39753487215195227], [34.0, 0.6013420918342184, 0.39865790816578167], [35.0, 0.60021588324365, 0.39978411675635], [36.0, 0.5990864931138133, 0.40091350688618665], [37.0, 0.5979539124568598, 0.4020460875431402], [38.0, 0.5968181322595504, 0.40318186774044956], [39.0, 0.5956791434831837, 0.40432085651681626], [40.0, 0.5945369370635235, 0.40546306293647644], [41.0, 0.593391503910728, 0.40660849608927196], [42.0, 0.5922428349092759, 0.4077571650907241], [43.0, 0.5910909209178944, 0.4089090790821056], [44.0, 0.5899357527694876, 0.41006424723051244], [45.0, 0.5887773212710613, 0.4112226787289387], [46.0, 0.587615617203652, 0.4123843827963481], [47.0, 0.5864506313222523, 0.4135493686777477], [48.0, 0.5852823543557376, 0.41471764564426244], [49.0, 0.5841107770067925, 0.4158892229932076], [50.0, 0.5829358899518368, 0.41706411004816324], [51.0, 0.5817576838409507, 0.41824231615904933], [52.0, 0.5805761492978012, 0.4194238507021988], [53.0, 0.5793912769195674, 0.4206087230804326], [54.0, 0.5782030572768653, 0.4217969427231347], [55.0, 0.5770114809136724, 0.4229885190863277], [56.0, 0.5758165383472534, 0.42418346165274656], [57.0, 0.5746182200680845, 0.4253817799319155], [58.0, 0.5734165165397767, 0.4265834834602233], [59.0, 0.5722114181990016, 0.42778858180099844], [60.0, 0.5710029154554137, 0.42899708454458635], [61.0, 0.5697909986915751, 0.4302090013084249], [62.0, 0.5685756582628789, 0.4314243417371211], [63.0, 0.5673568844974715, 0.4326431155025285], [64.0, 0.5661346676961769, 0.4338653323038231], [65.0, 0.5649089981324185, 0.43509100186758154], [66.0, 0.5636798660521426, 0.43632013394785746], [67.0, 0.5624472616737398, 0.4375527383262602], [68.0, 0.5612111751879681, 0.4387888248120319], [69.0, 0.559971596757874, 0.440028403242126], [70.0, 0.558728516518715, 0.441271483481285], [71.0, 0.5574819245778803, 0.4425180754221197], [72.0, 0.5562318110148128, 0.44376818898518716], [73.0, 0.5549781658809296, 0.44502183411907037], [74.0, 0.5537209791995432, 0.44627902080045684], [75.0, 0.5524602409657818, 0.4475397590342181], [76.0, 0.5511959411465102, 0.4488040588534899], [77.0, 0.5499280696802489, 0.45007193031975107], [78.0, 0.5486566164770957, 0.4513433835229043], [79.0, 0.5473815714186435, 0.4526184285813565], [80.0, 0.546102924357901, 0.45389707564209897], [81.0, 0.5448206651192122, 0.4551793348807878], [82.0, 0.543534783498174, 0.45646521650182603], [83.0, 0.5422452692615561, 0.4577547307384438], [84.0, 0.5409521121472202, 0.45904788785277983], [85.0, 0.5396553018640358, 0.4603446981359642], [86.0, 0.5383548280918019, 0.46164517190819815], [87.0, 0.537050680481161, 0.46294931951883894], [88.0, 0.5357428486535203, 0.46425715134647966], [89.0, 0.5344313222009663, 0.46556867779903366], [90.0, 0.5331160906861843, 0.4668839093138158], [91.0, 0.5317971436423726, 0.46820285635762743], [92.0, 0.5304744705731622, 0.46952552942683784], [93.0, 0.5291480609525315, 0.4708519390474685], [94.0, 0.5278179042247224, 0.47218209577527764], [95.0, 0.526483989804157, 0.473516010195843], [96.0, 0.5251463070753537, 0.47485369292464624], [97.0, 0.5238048453928417, 0.4761951546071584], [98.0, 0.5224595940810763, 0.47754040591892366], [99.0, 0.5211105424343554, 0.47888945756564466], [100.0, 0.5197576797167325, 0.4802423202832675], [101.0, 0.5184009951619323, 0.4815990048380677], [102.0, 0.5170404779732645, 0.48295952202673553], [103.0, 0.5156761173235389, 0.48432388267646104], [104.0, 0.514307902354978, 0.48569209764502197], [105.0, 0.5129358221791308, 0.4870641778208692], [106.0, 0.5115598658767867, 0.4884401341232133], [107.0, 0.5101800224978885, 0.4898199775021115], [108.0, 0.508796281061445, 0.491203718938555], [109.0, 0.5074086305554435, 0.49259136944455645], [110.0, 0.5060170599367628, 0.4939829400632372], [111.0, 0.504621558131084, 0.495378441868916], [112.0, 0.5032221140328044, 0.4967778859671957], [113.0, 0.5018187165049469, 0.4981812834950531], [114.0, 0.5004113543790734, 0.4995886456209266], [115.0, 0.49900001645519426, 0.5009999835448057], [116.0, 0.4975846915016801, 0.50241530849832], [117.0, 0.4961653682551724, 0.5038346317448277], [118.0, 0.4947420354204932, 0.5052579645795068], [119.0, 0.49331468167055603, 0.506685318329444], [120.0, 0.49188329564627536, 0.5081167043537247], [121.0, 0.4904478659564759, 0.5095521340435242], [122.0, 0.4890083811778031, 0.5109916188221969], [123.0, 0.4875648298546302, 0.5124351701453699], [124.0, 0.4861172004989696, 0.5138827995010303], [125.0, 0.48466548159037914, 0.5153345184096209], [126.0, 0.4832096615758718, 0.5167903384241282], [127.0, 0.48174972886982365, 0.5182502711301764], [128.0, 0.4802856718538809, 0.5197143281461191], [129.0, 0.47881747887686804, 0.5211825211231319], [130.0, 0.4773451382546952, 0.5226548617453048], [131.0, 0.47586863827026454, 0.5241313617297354], [132.0, 0.47438796717337817, 0.5256120328266218], [133.0, 0.4729031131806429, 0.5270968868193572], [134.0, 0.47141406447537815, 0.5285859355246219], [135.0, 0.469920809207521, 0.530079190792479], [136.0, 0.46842333549353216, 0.5315766645064679], [137.0, 0.46692163141630144, 0.5330783685836985], [138.0, 0.46541568502505226, 0.5345843149749478], [139.0, 0.4639054843352482, 0.5360945156647517], [140.0, 0.4623910173284952, 0.5376089826715048], [141.0, 0.4608722719524481, 0.5391277280475519], [142.0, 0.45934923612071377, 0.5406507638792862], [143.0, 0.4578218977127548, 0.5421781022872452], [144.0, 0.4562902445737933, 0.5437097554262068], [145.0, 0.45475426451471423, 0.5452457354852859], [146.0, 0.4532139453119681, 0.5467860546880319], [147.0, 0.4516692747074745, 0.5483307252925255], [148.0, 0.45012024040852305, 0.549879759591477], [149.0, 0.448566830087677, 0.5514331699123229], [150.0, 0.4470090313826746, 0.5529909686173253], [151.0, 0.44544683189633066, 0.5545531681036694], [152.0, 0.44388021919643766, 0.5561197808035624], [153.0, 0.44230918081566784, 0.5576908191843322], [154.0, 0.44073370425147185, 0.5592662957485282], [155.0, 0.43915377696598235, 0.5608462230340177], [156.0, 0.43756938638591114, 0.5624306136140889], [157.0, 0.4359805199024513, 0.5640194800975487], [158.0, 0.4343871648711757, 0.5656128351288243], [159.0, 0.4327893086119367, 0.5672106913880633], [160.0, 0.4311869384087654, 0.5688130615912346], [161.0, 0.42958004150977014, 0.5704199584902299], [162.0, 0.42796860512703516, 0.5720313948729648], [163.0, 0.426352616436519, 0.573647383563481], [164.0, 0.42473206257795226, 0.5752679374220478], [165.0, 0.42310693065473465, 0.5768930693452653], [166.0, 0.42147720773383435, 0.5785227922661657], [167.0, 0.4198428808456823, 0.5801571191543178], [168.0, 0.4182039369840715, 0.5817960630159285], [169.0, 0.4165603631060514, 0.5834396368939486], [170.0, 0.414912146131826, 0.5850878538681741], [171.0, 0.41325927294464826, 0.5867407270553517], [172.0, 0.41160173039071674, 0.5883982696092832], [173.0, 0.4099395052790706, 0.5900604947209295], [174.0, 0.4082725843814839, 0.591727415618516], [175.0, 0.4066009544323616, 0.5933990455676385], [176.0, 0.40492460212863285, 0.5950753978713672], [177.0, 0.40324351412964643, 0.5967564858703536], [178.0, 0.40155767705706263, 0.5984423229429373], [179.0, 0.3998670774947486, 0.6001329225052514], [180.0, 0.3981717019886712, 0.6018282980113289], [181.0, 0.3964715370467892, 0.6035284629532107], [182.0, 0.39476656913894637, 0.6052334308610537], [183.0, 0.3930567846967638, 0.6069432153032362], [184.0, 0.391342170113532, 0.6086578298864679], [185.0, 0.3896227117441029, 0.6103772882558971], [186.0, 0.3878983959047799, 0.6121016040952202], [187.0, 0.3861692088732109, 0.6138307911267892], [188.0, 0.38443513688827763, 0.6155648631117224], [189.0, 0.3826961661499869, 0.6173038338500131], [190.0, 0.38095228281936055, 0.6190477171806396], [191.0, 0.3792034730183252, 0.6207965269816748], [192.0, 0.3774497228296021, 0.6225502771703979], [193.0, 0.37569101829659557, 0.6243089817034045], [194.0, 0.37392734542328326, 0.6260726545767168], [195.0, 0.3721586901741041, 0.6278413098258959], [196.0, 0.3703850384738459, 0.6296149615261541], [197.0, 0.36860637620753456, 0.6313936237924654], [198.0, 0.36682268922032063, 0.6331773107796794], [199.0, 0.36503396331736804, 0.634966036682632], [200.0, 0.3632401842637395, 0.6367598157362604], [201.0, 0.36144133778428456, 0.6385586622157154], [202.0, 0.3596374095635251, 0.6403625904364749], [203.0, 0.35782838524554206, 0.6421716147544579], [204.0, 0.35601425043386076, 0.6439857495661392], [205.0, 0.3541949906913362, 0.6458050093086638], [206.0, 0.35237059154003914, 0.6476294084599608], [207.0, 0.3505410384611397, 0.6494589615388602], [208.0, 0.3487063168947924, 0.6512936831052075], [209.0, 0.3468664122400203, 0.6531335877599798], [210.0, 0.34502130985459817, 0.6549786901454018], [211.0, 0.34317099505493737, 0.6568290049450627], [212.0, 0.3413154531159676, 0.6586845468840324], [213.0, 0.3394546692710201, 0.6605453307289799], [214.0, 0.3375886287117107, 0.6624113712882892], [215.0, 0.33571731658782117, 0.6642826834121788], [216.0, 0.3338407180071817, 0.6661592819928183], [217.0, 0.33195881803555194, 0.6680411819644481], [218.0, 0.33007160169650235, 0.6699283983034977], [219.0, 0.3281790539712949, 0.6718209460287051], [220.0, 0.32628115979876376, 0.6737188402012362], [221.0, 0.3243779040751953, 0.6756220959248047], [222.0, 0.32246927165420763, 0.6775307283457924], [223.0, 0.3205552473466307, 0.6794447526533692], [224.0, 0.31863581592038503, 0.681364184079615], [225.0, 0.31671096210036004, 0.68328903789964], [226.0, 0.3147806705682935, 0.6852193294317064], [227.0, 0.3128449259626488, 0.6871550740373512], [228.0, 0.31090371287849317, 0.6890962871215067], [229.0, 0.3089570158673749, 0.6910429841326251], [230.0, 0.3070048194372003, 0.6929951805627996], [231.0, 0.3050471080521103, 0.6949528919478898], [232.0, 0.30308386613235727, 0.6969161338676427], [233.0, 0.30111507805418125, 0.6988849219458187], [234.0, 0.2991407281496841, 0.7008592718503158], [235.0, 0.2971608007067069, 0.7028391992932931], [236.0, 0.29517527996870335, 0.7048247200312967], [237.0, 0.293184150134615, 0.706815849865385], [238.0, 0.2911873953587451, 0.7088126046412548], [239.0, 0.28918499975063344, 0.7108150002493666], [240.0, 0.28717694737492916, 0.7128230526250708], [241.0, 0.2851632222512632, 0.7148367777487368], [242.0, 0.2831438083541229, 0.7168561916458771], [243.0, 0.28111868961272335, 0.7188813103872768], [244.0, 0.27908784991087904, 0.7209121500891209], [245.0, 0.27705127308687727, 0.7229487269131227], [246.0, 0.27500894293334777, 0.7249910570666522], [247.0, 0.2729608431971345, 0.7270391568028655], [248.0, 0.2709069575791663, 0.7290930424208337], [249.0, 0.2688472697343273, 0.7311527302656727], [250.0, 0.26678176327132697, 0.733218236728673], [251.0, 0.2647104217525682, 0.7352895782474317], [252.0, 0.2626332286940192, 0.7373667713059808], [253.0, 0.26055016756507987, 0.7394498324349201], [254.0, 0.258461221788451, 0.741538778211549], [255.0, 0.2563663747400032, 0.7436336252599968], [256.0, 0.25426560974864365, 0.7457343902513563], [257.0, 0.2521589100961836, 0.7478410899038165], [258.0, 0.2500462590172053, 0.7499537409827947], [259.0, 0.2479276396989289, 0.7520723603010712], [260.0, 0.24580303528107816, 0.7541969647189218], [261.0, 0.243672428855747, 0.756327571144253], [262.0, 0.24153580346726466, 0.7584641965327353], [263.0, 0.23939314211205964, 0.7606068578879404], [264.0, 0.2372444277385263, 0.7627555722614736], [265.0, 0.23508964324688758, 0.7649103567531125], [266.0, 0.23292877148905972, 0.7670712285109402], [267.0, 0.23076179526851653, 0.7692382047314834], [268.0, 0.22858869734015003, 0.77141130265985], [269.0, 0.2264094604101357, 0.7735905395898642], [270.0, 0.22422406713579424, 0.7757759328642058], [271.0, 0.22203250012545261, 0.7779674998745474], [272.0, 0.21983474193830707, 0.7801652580616929], [273.0, 0.21763077508428286, 0.7823692249157171], [274.0, 0.21542058202389586, 0.7845794179761041], [275.0, 0.21320414516811312, 0.786795854831887], [276.0, 0.21098144687821316, 0.7890185531217868], [277.0, 0.20875246946564402, 0.7912475305343559], [278.0, 0.2065171951918844, 0.7934828048081156], [279.0, 0.2042756062683014, 0.7957243937316986], [280.0, 0.20202768485600928, 0.7979723151439907], [281.0, 0.1997734130657274, 0.8002265869342726], [282.0, 0.1975127729576381, 0.802487227042362], [283.0, 0.19524574654124338, 0.8047542534587566], [284.0, 0.19297231577522236, 0.8070276842247777], [285.0, 0.1906924625672871, 0.8093075374327129], [286.0, 0.18840616877403968, 0.8115938312259603], [287.0, 0.1861134162008264, 0.8138865837991736], [288.0, 0.18381418660159377, 0.8161858133984062], [289.0, 0.18150846167874307, 0.8184915383212569], [290.0, 0.1791962230829854, 0.8208037769170146], [291.0, 0.176877452413195, 0.823122547586805], [292.0, 0.17455213121626223, 0.8254478687837378], [293.0, 0.17222024098694785, 0.8277797590130521], [294.0, 0.16988176316773598, 0.8301182368322639], [295.0, 0.1675366791486849, 0.8324633208513151], [296.0, 0.16518497026727968, 0.8348150297327203], [297.0, 0.16282661780828495, 0.8371733821917151], [298.0, 0.16046160300359316, 0.8395383969964068], [299.0, 0.15808990703207812, 0.8419100929679219], [300.0, 0.15571151101944355, 0.8442884889805564], [301.0, 0.1533263960380739, 0.846673603961926], [302.0, 0.15093454310688112, 0.8490654568931189], [303.0, 0.14853593319115804, 0.8514640668088419], [304.0, 0.1461305472024231, 0.853869452797577], [305.0, 0.14371836599826965, 0.8562816340017303], [306.0, 0.14129937038221446, 0.8587006296177856], [307.0, 0.13887354110354452, 0.8611264588964556], [308.0, 0.1364408588571621, 0.8635591411428378], [309.0, 0.13400130428343363, 0.8659986957165664], [310.0, 0.13155485796803376, 0.8684451420319662], [311.0, 0.12910150044179347, 0.8708984995582066], [312.0, 0.1266412121805416, 0.8733587878194584], [313.0, 0.1241739736049516, 0.8758260263950484], [314.0, 0.12169976508038523, 0.8783002349196147], [315.0, 0.11921856691673745, 0.8807814330832626], [316.0, 0.11673035936827716, 0.8832696406317229], [317.0, 0.11423512263349234, 0.8857648773665077], [318.0, 0.11173283685493178, 0.8882671631450682], [319.0, 0.10922348211904696, 0.890776517880953], [320.0, 0.10670703845603331, 0.8932929615439668], [321.0, 0.10418348583967164, 0.8958165141603284], [322.0, 0.10165280418716839, 0.8983471958128316], [323.0, 0.0991149733589973, 0.9008850266410027], [324.0, 0.09656997315873637, 0.9034300268412636], [325.0, 0.0940177833329098, 0.9059822166670901], [326.0, 0.0914583835708251, 0.908541616429175], [327.0, 0.08889175350441283, 0.9111082464955872], [328.0, 0.08631787270806274, 0.9136821272919373], [329.0, 0.08373672069846265, 0.9162632793015374], [330.0, 0.08114827693443559, 0.9188517230655644], [331.0, 0.07855252081677565, 0.9214474791832243], [332.0, 0.07594943168808263, 0.9240505683119175], [333.0, 0.07333898883260169, 0.9266610111673983], [334.0, 0.07072117147605379, 0.9292788285239462], [335.0, 0.06809595878547371, 0.9319040412145263], [336.0, 0.0654633298690424, 0.9345366701309575], [337.0, 0.06282326377592212, 0.9371767362240779], [338.0, 0.06017573949608935, 0.9398242605039105], [339.0, 0.05752073596016574, 0.9424792640398342], [340.0, 0.05485823203925296, 0.945141767960747], [341.0, 0.05218820654476361, 0.9478117934552364], [342.0, 0.049510638228252496, 0.9504893617717475], [343.0, 0.046825505781247535, 0.9531744942187524], [344.0, 0.04413278783507936, 0.9558672121649207], [345.0, 0.041432462960713234, 0.9585675370392868], [346.0, 0.03872450966857732, 0.9612754903314227], [347.0, 0.036008906408391, 0.963991093591609], [348.0, 0.03328563156899474, 0.9667143684310052], [349.0, 0.030554663478177143, 0.9694453365218229], [350.0, 0.02781598040250314, 0.9721840195974969], [351.0, 0.025069560547140046, 0.97493043945286], [352.0, 0.022315382055685472, 0.9776846179443145], [353.0, 0.01955342300999264, 0.9804465769900074], [354.0, 0.01678366142999573, 0.9832163385700043], [355.0, 0.01400607527353548, 0.9859939247264645], [356.0, 0.01122064243618325, 0.9887793575638167], [357.0, 0.00842734075106529, 0.9915726592489347], [358.0, 0.005626147988687092, 0.9943738520113129], [359.0, 0.0028170418567547645, 0.9971829581432452]], \"data02\": [[0.026881720430107503, 0.9379139072847682, 0.8689293598233996, 0.7999448123620307, 0.7309602649006621], [0.08661887694145756, 0.9379139072847682, 0.8689293598233996, 0.7999448123620307, 0.7309602649006621]]}, \"id\": \"el557074742090200\"});\n",
       "   }(mpld3);\n",
       "}else if(typeof define === \"function\" && define.amd){\n",
       "   // require.js is available: use it to load d3/mpld3\n",
       "   require.config({paths: {d3: \"https://mpld3.github.io/js/d3.v3.min\"}});\n",
       "   require([\"d3\"], function(d3){\n",
       "      window.d3 = d3;\n",
       "      mpld3_load_lib(\"https://mpld3.github.io/js/mpld3.v0.3.js\", function(){\n",
       "         \n",
       "         mpld3.draw_figure(\"fig_el5570747420902008393870863\", {\"axes\": [{\"ydomain\": [-0.046901253957569757, 1.0469012539575697], \"paths\": [{\"yindex\": 1, \"xindex\": 0, \"alpha\": 0.8, \"dasharray\": \"none\", \"id\": \"el557074766388968\", \"edgecolor\": \"#CCCCCC\", \"zorder\": 1000000.0, \"coordinates\": \"axes\", \"facecolor\": \"#FFFFFF\", \"pathcodes\": [\"M\", \"L\", \"S\", \"L\", \"S\", \"L\", \"S\", \"L\", \"S\", \"Z\"], \"edgewidth\": 1.0, \"data\": \"data03\"}], \"axes\": [{\"tickvalues\": null, \"tickformat\": null, \"fontsize\": 10.0, \"position\": \"bottom\", \"grid\": {\"gridOn\": false}, \"nticks\": 10, \"visible\": true, \"scale\": \"linear\"}, {\"tickvalues\": null, \"tickformat\": null, \"fontsize\": 10.0, \"position\": \"left\", \"grid\": {\"gridOn\": false}, \"nticks\": 8, \"visible\": true, \"scale\": \"linear\"}], \"axesbgalpha\": null, \"xlim\": [-17.95, 376.95], \"id\": \"el557074746929264\", \"yscale\": \"linear\", \"ylim\": [-0.046901253957569757, 1.0469012539575697], \"zoomable\": true, \"bbox\": [0.125, 0.125, 0.775, 0.755], \"axesbg\": \"#FFFFFF\", \"sharey\": [], \"xdomain\": [-17.95, 376.95], \"sharex\": [], \"images\": [], \"collections\": [], \"markers\": [], \"lines\": [{\"data\": \"data01\", \"linewidth\": 1.5, \"zorder\": 2, \"coordinates\": \"data\", \"drawstyle\": \"default\", \"xindex\": 0, \"alpha\": 1, \"dasharray\": \"none\", \"yindex\": 1, \"color\": \"#0000FF\", \"id\": \"el557074742088352\"}, {\"data\": \"data01\", \"linewidth\": 1.5, \"zorder\": 2, \"coordinates\": \"data\", \"drawstyle\": \"default\", \"xindex\": 0, \"alpha\": 1, \"dasharray\": \"none\", \"yindex\": 2, \"color\": \"#FF0000\", \"id\": \"el557074738760776\"}, {\"data\": \"data01\", \"linewidth\": 1.5, \"zorder\": 2, \"coordinates\": \"data\", \"drawstyle\": \"default\", \"xindex\": 0, \"alpha\": 1, \"dasharray\": \"none\", \"yindex\": 1, \"color\": \"#0000FF\", \"id\": \"el557074676621200\"}, {\"data\": \"data01\", \"linewidth\": 1.5, \"zorder\": 2, \"coordinates\": \"data\", \"drawstyle\": \"default\", \"xindex\": 0, \"alpha\": 1, \"dasharray\": \"none\", \"yindex\": 2, \"color\": \"#FF0000\", \"id\": \"el557074733108176\"}, {\"data\": \"data02\", \"linewidth\": 1.5, \"zorder\": 1000002.0, \"coordinates\": \"axes\", \"drawstyle\": \"default\", \"xindex\": 0, \"alpha\": 1, \"dasharray\": \"none\", \"yindex\": 1, \"color\": \"#0000FF\", \"id\": \"el557074766390704\"}, {\"data\": \"data02\", \"linewidth\": 1.5, \"zorder\": 1000002.0, \"coordinates\": \"axes\", \"drawstyle\": \"default\", \"xindex\": 0, \"alpha\": 1, \"dasharray\": \"none\", \"yindex\": 2, \"color\": \"#FF0000\", \"id\": \"el557074771593240\"}, {\"data\": \"data02\", \"linewidth\": 1.5, \"zorder\": 1000002.0, \"coordinates\": \"axes\", \"drawstyle\": \"default\", \"xindex\": 0, \"alpha\": 1, \"dasharray\": \"none\", \"yindex\": 3, \"color\": \"#0000FF\", \"id\": \"el557074733042472\"}, {\"data\": \"data02\", \"linewidth\": 1.5, \"zorder\": 1000002.0, \"coordinates\": \"axes\", \"drawstyle\": \"default\", \"xindex\": 0, \"alpha\": 1, \"dasharray\": \"none\", \"yindex\": 4, \"color\": \"#FF0000\", \"id\": \"el557074733107168\"}], \"xscale\": \"linear\", \"texts\": [{\"fontsize\": 12.0, \"rotation\": -0.0, \"h_anchor\": \"middle\", \"zorder\": 3, \"color\": \"#000000\", \"id\": \"el557074742191200\", \"text\": \"Evolution of the equity/interest share paid over time\", \"coordinates\": \"axes\", \"position\": [0.49999999999999994, 1.0275938189845473], \"alpha\": 1, \"v_baseline\": \"auto\"}, {\"fontsize\": 10.0, \"rotation\": -0.0, \"h_anchor\": \"start\", \"zorder\": 1000003.0, \"color\": \"#000000\", \"id\": \"el557074766389640\", \"text\": \"interest rent share\", \"coordinates\": \"axes\", \"position\": [0.11051373954599761, 0.9218175128771156], \"alpha\": 1, \"v_baseline\": \"auto\"}, {\"fontsize\": 10.0, \"rotation\": -0.0, \"h_anchor\": \"start\", \"zorder\": 1000003.0, \"color\": \"#000000\", \"id\": \"el557074771593072\", \"text\": \"equity rent share\", \"coordinates\": \"axes\", \"position\": [0.11051373954599761, 0.8528329654157469], \"alpha\": 1, \"v_baseline\": \"auto\"}, {\"fontsize\": 10.0, \"rotation\": -0.0, \"h_anchor\": \"start\", \"zorder\": 1000003.0, \"color\": \"#000000\", \"id\": \"el557074757941272\", \"text\": \"interest rent share\", \"coordinates\": \"axes\", \"position\": [0.11051373954599761, 0.7838484179543781], \"alpha\": 1, \"v_baseline\": \"auto\"}, {\"fontsize\": 10.0, \"rotation\": -0.0, \"h_anchor\": \"start\", \"zorder\": 1000003.0, \"color\": \"#000000\", \"id\": \"el557074737915032\", \"text\": \"equity rent share\", \"coordinates\": \"axes\", \"position\": [0.11051373954599761, 0.7148638704930095], \"alpha\": 1, \"v_baseline\": \"auto\"}]}], \"width\": 432.0, \"height\": 288.0, \"plugins\": [{\"type\": \"reset\"}, {\"enabled\": false, \"button\": true, \"type\": \"zoom\"}, {\"enabled\": false, \"button\": true, \"type\": \"boxzoom\"}], \"data\": {\"data03\": [[0.020908004778972505, 0.687270051508462], [0.39538530465949817, 0.687270051508462], [0.4013590203106332, 0.687270051508462], [0.4013590203106332, 0.6964679911699778], [0.4013590203106332, 0.9678072111846947], [0.4013590203106332, 0.9770051508462105], [0.39538530465949817, 0.9770051508462105], [0.020908004778972505, 0.9770051508462105], [0.014934289127837508, 0.9770051508462105], [0.014934289127837508, 0.9678072111846947], [0.014934289127837508, 0.6964679911699778], [0.014934289127837508, 0.687270051508462], [0.020908004778972505, 0.687270051508462]], \"data01\": [[0.0, 0.6378026997127872, 0.36219730028721275], [1.0, 0.6367794923394758, 0.36322050766052416], [2.0, 0.6357533944053347, 0.3642466055946652], [3.0, 0.6347243977445298, 0.3652756022554702], [4.0, 0.6336924941681581, 0.36630750583184185], [5.0, 0.6326576754641832, 0.3673423245358169], [6.0, 0.6316199333973694, 0.3683800666026305], [7.0, 0.630579259709217, 0.3694207402907829], [8.0, 0.6295356461178956, 0.37046435388210447], [9.0, 0.6284890843181786, 0.3715109156818214], [10.0, 0.6274395659813774, 0.37256043401862265], [11.0, 0.6263870827552747, 0.3736129172447254], [12.0, 0.6253316262640582, 0.37466837373594175], [13.0, 0.6242731881082543, 0.3757268118917457], [14.0, 0.62321175986466, 0.37678824013533996], [15.0, 0.6221473330862777, 0.37785266691372227], [16.0, 0.6210798993022465, 0.3789201006977535], [17.0, 0.6200094500177752, 0.3799905499822248], [18.0, 0.6189359767140753, 0.3810640232859247], [19.0, 0.6178594708482925, 0.3821405291517075], [20.0, 0.6167799238534389, 0.38322007614656106], [21.0, 0.615697327138325, 0.38430267286167497], [22.0, 0.6146116720874907, 0.3853883279125093], [23.0, 0.6135229500611379, 0.38647704993886217], [24.0, 0.6124311523950604, 0.38756884760493954], [25.0, 0.6113362704005766, 0.3886637295994234], [26.0, 0.6102382953644582, 0.3897617046355419], [27.0, 0.6091372185488626, 0.39086278145113734], [28.0, 0.6080330311912633, 0.3919669688087367], [29.0, 0.6069257245043784, 0.3930742754956216], [30.0, 0.6058152896761033, 0.3941847103238967], [31.0, 0.6047017178694383, 0.3952982821305618], [32.0, 0.6035850002224195, 0.3964149997775806], [33.0, 0.6024651278480477, 0.39753487215195227], [34.0, 0.6013420918342184, 0.39865790816578167], [35.0, 0.60021588324365, 0.39978411675635], [36.0, 0.5990864931138133, 0.40091350688618665], [37.0, 0.5979539124568598, 0.4020460875431402], [38.0, 0.5968181322595504, 0.40318186774044956], [39.0, 0.5956791434831837, 0.40432085651681626], [40.0, 0.5945369370635235, 0.40546306293647644], [41.0, 0.593391503910728, 0.40660849608927196], [42.0, 0.5922428349092759, 0.4077571650907241], [43.0, 0.5910909209178944, 0.4089090790821056], [44.0, 0.5899357527694876, 0.41006424723051244], [45.0, 0.5887773212710613, 0.4112226787289387], [46.0, 0.587615617203652, 0.4123843827963481], [47.0, 0.5864506313222523, 0.4135493686777477], [48.0, 0.5852823543557376, 0.41471764564426244], [49.0, 0.5841107770067925, 0.4158892229932076], [50.0, 0.5829358899518368, 0.41706411004816324], [51.0, 0.5817576838409507, 0.41824231615904933], [52.0, 0.5805761492978012, 0.4194238507021988], [53.0, 0.5793912769195674, 0.4206087230804326], [54.0, 0.5782030572768653, 0.4217969427231347], [55.0, 0.5770114809136724, 0.4229885190863277], [56.0, 0.5758165383472534, 0.42418346165274656], [57.0, 0.5746182200680845, 0.4253817799319155], [58.0, 0.5734165165397767, 0.4265834834602233], [59.0, 0.5722114181990016, 0.42778858180099844], [60.0, 0.5710029154554137, 0.42899708454458635], [61.0, 0.5697909986915751, 0.4302090013084249], [62.0, 0.5685756582628789, 0.4314243417371211], [63.0, 0.5673568844974715, 0.4326431155025285], [64.0, 0.5661346676961769, 0.4338653323038231], [65.0, 0.5649089981324185, 0.43509100186758154], [66.0, 0.5636798660521426, 0.43632013394785746], [67.0, 0.5624472616737398, 0.4375527383262602], [68.0, 0.5612111751879681, 0.4387888248120319], [69.0, 0.559971596757874, 0.440028403242126], [70.0, 0.558728516518715, 0.441271483481285], [71.0, 0.5574819245778803, 0.4425180754221197], [72.0, 0.5562318110148128, 0.44376818898518716], [73.0, 0.5549781658809296, 0.44502183411907037], [74.0, 0.5537209791995432, 0.44627902080045684], [75.0, 0.5524602409657818, 0.4475397590342181], [76.0, 0.5511959411465102, 0.4488040588534899], [77.0, 0.5499280696802489, 0.45007193031975107], [78.0, 0.5486566164770957, 0.4513433835229043], [79.0, 0.5473815714186435, 0.4526184285813565], [80.0, 0.546102924357901, 0.45389707564209897], [81.0, 0.5448206651192122, 0.4551793348807878], [82.0, 0.543534783498174, 0.45646521650182603], [83.0, 0.5422452692615561, 0.4577547307384438], [84.0, 0.5409521121472202, 0.45904788785277983], [85.0, 0.5396553018640358, 0.4603446981359642], [86.0, 0.5383548280918019, 0.46164517190819815], [87.0, 0.537050680481161, 0.46294931951883894], [88.0, 0.5357428486535203, 0.46425715134647966], [89.0, 0.5344313222009663, 0.46556867779903366], [90.0, 0.5331160906861843, 0.4668839093138158], [91.0, 0.5317971436423726, 0.46820285635762743], [92.0, 0.5304744705731622, 0.46952552942683784], [93.0, 0.5291480609525315, 0.4708519390474685], [94.0, 0.5278179042247224, 0.47218209577527764], [95.0, 0.526483989804157, 0.473516010195843], [96.0, 0.5251463070753537, 0.47485369292464624], [97.0, 0.5238048453928417, 0.4761951546071584], [98.0, 0.5224595940810763, 0.47754040591892366], [99.0, 0.5211105424343554, 0.47888945756564466], [100.0, 0.5197576797167325, 0.4802423202832675], [101.0, 0.5184009951619323, 0.4815990048380677], [102.0, 0.5170404779732645, 0.48295952202673553], [103.0, 0.5156761173235389, 0.48432388267646104], [104.0, 0.514307902354978, 0.48569209764502197], [105.0, 0.5129358221791308, 0.4870641778208692], [106.0, 0.5115598658767867, 0.4884401341232133], [107.0, 0.5101800224978885, 0.4898199775021115], [108.0, 0.508796281061445, 0.491203718938555], [109.0, 0.5074086305554435, 0.49259136944455645], [110.0, 0.5060170599367628, 0.4939829400632372], [111.0, 0.504621558131084, 0.495378441868916], [112.0, 0.5032221140328044, 0.4967778859671957], [113.0, 0.5018187165049469, 0.4981812834950531], [114.0, 0.5004113543790734, 0.4995886456209266], [115.0, 0.49900001645519426, 0.5009999835448057], [116.0, 0.4975846915016801, 0.50241530849832], [117.0, 0.4961653682551724, 0.5038346317448277], [118.0, 0.4947420354204932, 0.5052579645795068], [119.0, 0.49331468167055603, 0.506685318329444], [120.0, 0.49188329564627536, 0.5081167043537247], [121.0, 0.4904478659564759, 0.5095521340435242], [122.0, 0.4890083811778031, 0.5109916188221969], [123.0, 0.4875648298546302, 0.5124351701453699], [124.0, 0.4861172004989696, 0.5138827995010303], [125.0, 0.48466548159037914, 0.5153345184096209], [126.0, 0.4832096615758718, 0.5167903384241282], [127.0, 0.48174972886982365, 0.5182502711301764], [128.0, 0.4802856718538809, 0.5197143281461191], [129.0, 0.47881747887686804, 0.5211825211231319], [130.0, 0.4773451382546952, 0.5226548617453048], [131.0, 0.47586863827026454, 0.5241313617297354], [132.0, 0.47438796717337817, 0.5256120328266218], [133.0, 0.4729031131806429, 0.5270968868193572], [134.0, 0.47141406447537815, 0.5285859355246219], [135.0, 0.469920809207521, 0.530079190792479], [136.0, 0.46842333549353216, 0.5315766645064679], [137.0, 0.46692163141630144, 0.5330783685836985], [138.0, 0.46541568502505226, 0.5345843149749478], [139.0, 0.4639054843352482, 0.5360945156647517], [140.0, 0.4623910173284952, 0.5376089826715048], [141.0, 0.4608722719524481, 0.5391277280475519], [142.0, 0.45934923612071377, 0.5406507638792862], [143.0, 0.4578218977127548, 0.5421781022872452], [144.0, 0.4562902445737933, 0.5437097554262068], [145.0, 0.45475426451471423, 0.5452457354852859], [146.0, 0.4532139453119681, 0.5467860546880319], [147.0, 0.4516692747074745, 0.5483307252925255], [148.0, 0.45012024040852305, 0.549879759591477], [149.0, 0.448566830087677, 0.5514331699123229], [150.0, 0.4470090313826746, 0.5529909686173253], [151.0, 0.44544683189633066, 0.5545531681036694], [152.0, 0.44388021919643766, 0.5561197808035624], [153.0, 0.44230918081566784, 0.5576908191843322], [154.0, 0.44073370425147185, 0.5592662957485282], [155.0, 0.43915377696598235, 0.5608462230340177], [156.0, 0.43756938638591114, 0.5624306136140889], [157.0, 0.4359805199024513, 0.5640194800975487], [158.0, 0.4343871648711757, 0.5656128351288243], [159.0, 0.4327893086119367, 0.5672106913880633], [160.0, 0.4311869384087654, 0.5688130615912346], [161.0, 0.42958004150977014, 0.5704199584902299], [162.0, 0.42796860512703516, 0.5720313948729648], [163.0, 0.426352616436519, 0.573647383563481], [164.0, 0.42473206257795226, 0.5752679374220478], [165.0, 0.42310693065473465, 0.5768930693452653], [166.0, 0.42147720773383435, 0.5785227922661657], [167.0, 0.4198428808456823, 0.5801571191543178], [168.0, 0.4182039369840715, 0.5817960630159285], [169.0, 0.4165603631060514, 0.5834396368939486], [170.0, 0.414912146131826, 0.5850878538681741], [171.0, 0.41325927294464826, 0.5867407270553517], [172.0, 0.41160173039071674, 0.5883982696092832], [173.0, 0.4099395052790706, 0.5900604947209295], [174.0, 0.4082725843814839, 0.591727415618516], [175.0, 0.4066009544323616, 0.5933990455676385], [176.0, 0.40492460212863285, 0.5950753978713672], [177.0, 0.40324351412964643, 0.5967564858703536], [178.0, 0.40155767705706263, 0.5984423229429373], [179.0, 0.3998670774947486, 0.6001329225052514], [180.0, 0.3981717019886712, 0.6018282980113289], [181.0, 0.3964715370467892, 0.6035284629532107], [182.0, 0.39476656913894637, 0.6052334308610537], [183.0, 0.3930567846967638, 0.6069432153032362], [184.0, 0.391342170113532, 0.6086578298864679], [185.0, 0.3896227117441029, 0.6103772882558971], [186.0, 0.3878983959047799, 0.6121016040952202], [187.0, 0.3861692088732109, 0.6138307911267892], [188.0, 0.38443513688827763, 0.6155648631117224], [189.0, 0.3826961661499869, 0.6173038338500131], [190.0, 0.38095228281936055, 0.6190477171806396], [191.0, 0.3792034730183252, 0.6207965269816748], [192.0, 0.3774497228296021, 0.6225502771703979], [193.0, 0.37569101829659557, 0.6243089817034045], [194.0, 0.37392734542328326, 0.6260726545767168], [195.0, 0.3721586901741041, 0.6278413098258959], [196.0, 0.3703850384738459, 0.6296149615261541], [197.0, 0.36860637620753456, 0.6313936237924654], [198.0, 0.36682268922032063, 0.6331773107796794], [199.0, 0.36503396331736804, 0.634966036682632], [200.0, 0.3632401842637395, 0.6367598157362604], [201.0, 0.36144133778428456, 0.6385586622157154], [202.0, 0.3596374095635251, 0.6403625904364749], [203.0, 0.35782838524554206, 0.6421716147544579], [204.0, 0.35601425043386076, 0.6439857495661392], [205.0, 0.3541949906913362, 0.6458050093086638], [206.0, 0.35237059154003914, 0.6476294084599608], [207.0, 0.3505410384611397, 0.6494589615388602], [208.0, 0.3487063168947924, 0.6512936831052075], [209.0, 0.3468664122400203, 0.6531335877599798], [210.0, 0.34502130985459817, 0.6549786901454018], [211.0, 0.34317099505493737, 0.6568290049450627], [212.0, 0.3413154531159676, 0.6586845468840324], [213.0, 0.3394546692710201, 0.6605453307289799], [214.0, 0.3375886287117107, 0.6624113712882892], [215.0, 0.33571731658782117, 0.6642826834121788], [216.0, 0.3338407180071817, 0.6661592819928183], [217.0, 0.33195881803555194, 0.6680411819644481], [218.0, 0.33007160169650235, 0.6699283983034977], [219.0, 0.3281790539712949, 0.6718209460287051], [220.0, 0.32628115979876376, 0.6737188402012362], [221.0, 0.3243779040751953, 0.6756220959248047], [222.0, 0.32246927165420763, 0.6775307283457924], [223.0, 0.3205552473466307, 0.6794447526533692], [224.0, 0.31863581592038503, 0.681364184079615], [225.0, 0.31671096210036004, 0.68328903789964], [226.0, 0.3147806705682935, 0.6852193294317064], [227.0, 0.3128449259626488, 0.6871550740373512], [228.0, 0.31090371287849317, 0.6890962871215067], [229.0, 0.3089570158673749, 0.6910429841326251], [230.0, 0.3070048194372003, 0.6929951805627996], [231.0, 0.3050471080521103, 0.6949528919478898], [232.0, 0.30308386613235727, 0.6969161338676427], [233.0, 0.30111507805418125, 0.6988849219458187], [234.0, 0.2991407281496841, 0.7008592718503158], [235.0, 0.2971608007067069, 0.7028391992932931], [236.0, 0.29517527996870335, 0.7048247200312967], [237.0, 0.293184150134615, 0.706815849865385], [238.0, 0.2911873953587451, 0.7088126046412548], [239.0, 0.28918499975063344, 0.7108150002493666], [240.0, 0.28717694737492916, 0.7128230526250708], [241.0, 0.2851632222512632, 0.7148367777487368], [242.0, 0.2831438083541229, 0.7168561916458771], [243.0, 0.28111868961272335, 0.7188813103872768], [244.0, 0.27908784991087904, 0.7209121500891209], [245.0, 0.27705127308687727, 0.7229487269131227], [246.0, 0.27500894293334777, 0.7249910570666522], [247.0, 0.2729608431971345, 0.7270391568028655], [248.0, 0.2709069575791663, 0.7290930424208337], [249.0, 0.2688472697343273, 0.7311527302656727], [250.0, 0.26678176327132697, 0.733218236728673], [251.0, 0.2647104217525682, 0.7352895782474317], [252.0, 0.2626332286940192, 0.7373667713059808], [253.0, 0.26055016756507987, 0.7394498324349201], [254.0, 0.258461221788451, 0.741538778211549], [255.0, 0.2563663747400032, 0.7436336252599968], [256.0, 0.25426560974864365, 0.7457343902513563], [257.0, 0.2521589100961836, 0.7478410899038165], [258.0, 0.2500462590172053, 0.7499537409827947], [259.0, 0.2479276396989289, 0.7520723603010712], [260.0, 0.24580303528107816, 0.7541969647189218], [261.0, 0.243672428855747, 0.756327571144253], [262.0, 0.24153580346726466, 0.7584641965327353], [263.0, 0.23939314211205964, 0.7606068578879404], [264.0, 0.2372444277385263, 0.7627555722614736], [265.0, 0.23508964324688758, 0.7649103567531125], [266.0, 0.23292877148905972, 0.7670712285109402], [267.0, 0.23076179526851653, 0.7692382047314834], [268.0, 0.22858869734015003, 0.77141130265985], [269.0, 0.2264094604101357, 0.7735905395898642], [270.0, 0.22422406713579424, 0.7757759328642058], [271.0, 0.22203250012545261, 0.7779674998745474], [272.0, 0.21983474193830707, 0.7801652580616929], [273.0, 0.21763077508428286, 0.7823692249157171], [274.0, 0.21542058202389586, 0.7845794179761041], [275.0, 0.21320414516811312, 0.786795854831887], [276.0, 0.21098144687821316, 0.7890185531217868], [277.0, 0.20875246946564402, 0.7912475305343559], [278.0, 0.2065171951918844, 0.7934828048081156], [279.0, 0.2042756062683014, 0.7957243937316986], [280.0, 0.20202768485600928, 0.7979723151439907], [281.0, 0.1997734130657274, 0.8002265869342726], [282.0, 0.1975127729576381, 0.802487227042362], [283.0, 0.19524574654124338, 0.8047542534587566], [284.0, 0.19297231577522236, 0.8070276842247777], [285.0, 0.1906924625672871, 0.8093075374327129], [286.0, 0.18840616877403968, 0.8115938312259603], [287.0, 0.1861134162008264, 0.8138865837991736], [288.0, 0.18381418660159377, 0.8161858133984062], [289.0, 0.18150846167874307, 0.8184915383212569], [290.0, 0.1791962230829854, 0.8208037769170146], [291.0, 0.176877452413195, 0.823122547586805], [292.0, 0.17455213121626223, 0.8254478687837378], [293.0, 0.17222024098694785, 0.8277797590130521], [294.0, 0.16988176316773598, 0.8301182368322639], [295.0, 0.1675366791486849, 0.8324633208513151], [296.0, 0.16518497026727968, 0.8348150297327203], [297.0, 0.16282661780828495, 0.8371733821917151], [298.0, 0.16046160300359316, 0.8395383969964068], [299.0, 0.15808990703207812, 0.8419100929679219], [300.0, 0.15571151101944355, 0.8442884889805564], [301.0, 0.1533263960380739, 0.846673603961926], [302.0, 0.15093454310688112, 0.8490654568931189], [303.0, 0.14853593319115804, 0.8514640668088419], [304.0, 0.1461305472024231, 0.853869452797577], [305.0, 0.14371836599826965, 0.8562816340017303], [306.0, 0.14129937038221446, 0.8587006296177856], [307.0, 0.13887354110354452, 0.8611264588964556], [308.0, 0.1364408588571621, 0.8635591411428378], [309.0, 0.13400130428343363, 0.8659986957165664], [310.0, 0.13155485796803376, 0.8684451420319662], [311.0, 0.12910150044179347, 0.8708984995582066], [312.0, 0.1266412121805416, 0.8733587878194584], [313.0, 0.1241739736049516, 0.8758260263950484], [314.0, 0.12169976508038523, 0.8783002349196147], [315.0, 0.11921856691673745, 0.8807814330832626], [316.0, 0.11673035936827716, 0.8832696406317229], [317.0, 0.11423512263349234, 0.8857648773665077], [318.0, 0.11173283685493178, 0.8882671631450682], [319.0, 0.10922348211904696, 0.890776517880953], [320.0, 0.10670703845603331, 0.8932929615439668], [321.0, 0.10418348583967164, 0.8958165141603284], [322.0, 0.10165280418716839, 0.8983471958128316], [323.0, 0.0991149733589973, 0.9008850266410027], [324.0, 0.09656997315873637, 0.9034300268412636], [325.0, 0.0940177833329098, 0.9059822166670901], [326.0, 0.0914583835708251, 0.908541616429175], [327.0, 0.08889175350441283, 0.9111082464955872], [328.0, 0.08631787270806274, 0.9136821272919373], [329.0, 0.08373672069846265, 0.9162632793015374], [330.0, 0.08114827693443559, 0.9188517230655644], [331.0, 0.07855252081677565, 0.9214474791832243], [332.0, 0.07594943168808263, 0.9240505683119175], [333.0, 0.07333898883260169, 0.9266610111673983], [334.0, 0.07072117147605379, 0.9292788285239462], [335.0, 0.06809595878547371, 0.9319040412145263], [336.0, 0.0654633298690424, 0.9345366701309575], [337.0, 0.06282326377592212, 0.9371767362240779], [338.0, 0.06017573949608935, 0.9398242605039105], [339.0, 0.05752073596016574, 0.9424792640398342], [340.0, 0.05485823203925296, 0.945141767960747], [341.0, 0.05218820654476361, 0.9478117934552364], [342.0, 0.049510638228252496, 0.9504893617717475], [343.0, 0.046825505781247535, 0.9531744942187524], [344.0, 0.04413278783507936, 0.9558672121649207], [345.0, 0.041432462960713234, 0.9585675370392868], [346.0, 0.03872450966857732, 0.9612754903314227], [347.0, 0.036008906408391, 0.963991093591609], [348.0, 0.03328563156899474, 0.9667143684310052], [349.0, 0.030554663478177143, 0.9694453365218229], [350.0, 0.02781598040250314, 0.9721840195974969], [351.0, 0.025069560547140046, 0.97493043945286], [352.0, 0.022315382055685472, 0.9776846179443145], [353.0, 0.01955342300999264, 0.9804465769900074], [354.0, 0.01678366142999573, 0.9832163385700043], [355.0, 0.01400607527353548, 0.9859939247264645], [356.0, 0.01122064243618325, 0.9887793575638167], [357.0, 0.00842734075106529, 0.9915726592489347], [358.0, 0.005626147988687092, 0.9943738520113129], [359.0, 0.0028170418567547645, 0.9971829581432452]], \"data02\": [[0.026881720430107503, 0.9379139072847682, 0.8689293598233996, 0.7999448123620307, 0.7309602649006621], [0.08661887694145756, 0.9379139072847682, 0.8689293598233996, 0.7999448123620307, 0.7309602649006621]]}, \"id\": \"el557074742090200\"});\n",
       "      });\n",
       "    });\n",
       "}else{\n",
       "    // require.js not available: dynamically load d3 & mpld3\n",
       "    mpld3_load_lib(\"https://mpld3.github.io/js/d3.v3.min.js\", function(){\n",
       "         mpld3_load_lib(\"https://mpld3.github.io/js/mpld3.v0.3.js\", function(){\n",
       "                 \n",
       "                 mpld3.draw_figure(\"fig_el5570747420902008393870863\", {\"axes\": [{\"ydomain\": [-0.046901253957569757, 1.0469012539575697], \"paths\": [{\"yindex\": 1, \"xindex\": 0, \"alpha\": 0.8, \"dasharray\": \"none\", \"id\": \"el557074766388968\", \"edgecolor\": \"#CCCCCC\", \"zorder\": 1000000.0, \"coordinates\": \"axes\", \"facecolor\": \"#FFFFFF\", \"pathcodes\": [\"M\", \"L\", \"S\", \"L\", \"S\", \"L\", \"S\", \"L\", \"S\", \"Z\"], \"edgewidth\": 1.0, \"data\": \"data03\"}], \"axes\": [{\"tickvalues\": null, \"tickformat\": null, \"fontsize\": 10.0, \"position\": \"bottom\", \"grid\": {\"gridOn\": false}, \"nticks\": 10, \"visible\": true, \"scale\": \"linear\"}, {\"tickvalues\": null, \"tickformat\": null, \"fontsize\": 10.0, \"position\": \"left\", \"grid\": {\"gridOn\": false}, \"nticks\": 8, \"visible\": true, \"scale\": \"linear\"}], \"axesbgalpha\": null, \"xlim\": [-17.95, 376.95], \"id\": \"el557074746929264\", \"yscale\": \"linear\", \"ylim\": [-0.046901253957569757, 1.0469012539575697], \"zoomable\": true, \"bbox\": [0.125, 0.125, 0.775, 0.755], \"axesbg\": \"#FFFFFF\", \"sharey\": [], \"xdomain\": [-17.95, 376.95], \"sharex\": [], \"images\": [], \"collections\": [], \"markers\": [], \"lines\": [{\"data\": \"data01\", \"linewidth\": 1.5, \"zorder\": 2, \"coordinates\": \"data\", \"drawstyle\": \"default\", \"xindex\": 0, \"alpha\": 1, \"dasharray\": \"none\", \"yindex\": 1, \"color\": \"#0000FF\", \"id\": \"el557074742088352\"}, {\"data\": \"data01\", \"linewidth\": 1.5, \"zorder\": 2, \"coordinates\": \"data\", \"drawstyle\": \"default\", \"xindex\": 0, \"alpha\": 1, \"dasharray\": \"none\", \"yindex\": 2, \"color\": \"#FF0000\", \"id\": \"el557074738760776\"}, {\"data\": \"data01\", \"linewidth\": 1.5, \"zorder\": 2, \"coordinates\": \"data\", \"drawstyle\": \"default\", \"xindex\": 0, \"alpha\": 1, \"dasharray\": \"none\", \"yindex\": 1, \"color\": \"#0000FF\", \"id\": \"el557074676621200\"}, {\"data\": \"data01\", \"linewidth\": 1.5, \"zorder\": 2, \"coordinates\": \"data\", \"drawstyle\": \"default\", \"xindex\": 0, \"alpha\": 1, \"dasharray\": \"none\", \"yindex\": 2, \"color\": \"#FF0000\", \"id\": \"el557074733108176\"}, {\"data\": \"data02\", \"linewidth\": 1.5, \"zorder\": 1000002.0, \"coordinates\": \"axes\", \"drawstyle\": \"default\", \"xindex\": 0, \"alpha\": 1, \"dasharray\": \"none\", \"yindex\": 1, \"color\": \"#0000FF\", \"id\": \"el557074766390704\"}, {\"data\": \"data02\", \"linewidth\": 1.5, \"zorder\": 1000002.0, \"coordinates\": \"axes\", \"drawstyle\": \"default\", \"xindex\": 0, \"alpha\": 1, \"dasharray\": \"none\", \"yindex\": 2, \"color\": \"#FF0000\", \"id\": \"el557074771593240\"}, {\"data\": \"data02\", \"linewidth\": 1.5, \"zorder\": 1000002.0, \"coordinates\": \"axes\", \"drawstyle\": \"default\", \"xindex\": 0, \"alpha\": 1, \"dasharray\": \"none\", \"yindex\": 3, \"color\": \"#0000FF\", \"id\": \"el557074733042472\"}, {\"data\": \"data02\", \"linewidth\": 1.5, \"zorder\": 1000002.0, \"coordinates\": \"axes\", \"drawstyle\": \"default\", \"xindex\": 0, \"alpha\": 1, \"dasharray\": \"none\", \"yindex\": 4, \"color\": \"#FF0000\", \"id\": \"el557074733107168\"}], \"xscale\": \"linear\", \"texts\": [{\"fontsize\": 12.0, \"rotation\": -0.0, \"h_anchor\": \"middle\", \"zorder\": 3, \"color\": \"#000000\", \"id\": \"el557074742191200\", \"text\": \"Evolution of the equity/interest share paid over time\", \"coordinates\": \"axes\", \"position\": [0.49999999999999994, 1.0275938189845473], \"alpha\": 1, \"v_baseline\": \"auto\"}, {\"fontsize\": 10.0, \"rotation\": -0.0, \"h_anchor\": \"start\", \"zorder\": 1000003.0, \"color\": \"#000000\", \"id\": \"el557074766389640\", \"text\": \"interest rent share\", \"coordinates\": \"axes\", \"position\": [0.11051373954599761, 0.9218175128771156], \"alpha\": 1, \"v_baseline\": \"auto\"}, {\"fontsize\": 10.0, \"rotation\": -0.0, \"h_anchor\": \"start\", \"zorder\": 1000003.0, \"color\": \"#000000\", \"id\": \"el557074771593072\", \"text\": \"equity rent share\", \"coordinates\": \"axes\", \"position\": [0.11051373954599761, 0.8528329654157469], \"alpha\": 1, \"v_baseline\": \"auto\"}, {\"fontsize\": 10.0, \"rotation\": -0.0, \"h_anchor\": \"start\", \"zorder\": 1000003.0, \"color\": \"#000000\", \"id\": \"el557074757941272\", \"text\": \"interest rent share\", \"coordinates\": \"axes\", \"position\": [0.11051373954599761, 0.7838484179543781], \"alpha\": 1, \"v_baseline\": \"auto\"}, {\"fontsize\": 10.0, \"rotation\": -0.0, \"h_anchor\": \"start\", \"zorder\": 1000003.0, \"color\": \"#000000\", \"id\": \"el557074737915032\", \"text\": \"equity rent share\", \"coordinates\": \"axes\", \"position\": [0.11051373954599761, 0.7148638704930095], \"alpha\": 1, \"v_baseline\": \"auto\"}]}], \"width\": 432.0, \"height\": 288.0, \"plugins\": [{\"type\": \"reset\"}, {\"enabled\": false, \"button\": true, \"type\": \"zoom\"}, {\"enabled\": false, \"button\": true, \"type\": \"boxzoom\"}], \"data\": {\"data03\": [[0.020908004778972505, 0.687270051508462], [0.39538530465949817, 0.687270051508462], [0.4013590203106332, 0.687270051508462], [0.4013590203106332, 0.6964679911699778], [0.4013590203106332, 0.9678072111846947], [0.4013590203106332, 0.9770051508462105], [0.39538530465949817, 0.9770051508462105], [0.020908004778972505, 0.9770051508462105], [0.014934289127837508, 0.9770051508462105], [0.014934289127837508, 0.9678072111846947], [0.014934289127837508, 0.6964679911699778], [0.014934289127837508, 0.687270051508462], [0.020908004778972505, 0.687270051508462]], \"data01\": [[0.0, 0.6378026997127872, 0.36219730028721275], [1.0, 0.6367794923394758, 0.36322050766052416], [2.0, 0.6357533944053347, 0.3642466055946652], [3.0, 0.6347243977445298, 0.3652756022554702], [4.0, 0.6336924941681581, 0.36630750583184185], [5.0, 0.6326576754641832, 0.3673423245358169], [6.0, 0.6316199333973694, 0.3683800666026305], [7.0, 0.630579259709217, 0.3694207402907829], [8.0, 0.6295356461178956, 0.37046435388210447], [9.0, 0.6284890843181786, 0.3715109156818214], [10.0, 0.6274395659813774, 0.37256043401862265], [11.0, 0.6263870827552747, 0.3736129172447254], [12.0, 0.6253316262640582, 0.37466837373594175], [13.0, 0.6242731881082543, 0.3757268118917457], [14.0, 0.62321175986466, 0.37678824013533996], [15.0, 0.6221473330862777, 0.37785266691372227], [16.0, 0.6210798993022465, 0.3789201006977535], [17.0, 0.6200094500177752, 0.3799905499822248], [18.0, 0.6189359767140753, 0.3810640232859247], [19.0, 0.6178594708482925, 0.3821405291517075], [20.0, 0.6167799238534389, 0.38322007614656106], [21.0, 0.615697327138325, 0.38430267286167497], [22.0, 0.6146116720874907, 0.3853883279125093], [23.0, 0.6135229500611379, 0.38647704993886217], [24.0, 0.6124311523950604, 0.38756884760493954], [25.0, 0.6113362704005766, 0.3886637295994234], [26.0, 0.6102382953644582, 0.3897617046355419], [27.0, 0.6091372185488626, 0.39086278145113734], [28.0, 0.6080330311912633, 0.3919669688087367], [29.0, 0.6069257245043784, 0.3930742754956216], [30.0, 0.6058152896761033, 0.3941847103238967], [31.0, 0.6047017178694383, 0.3952982821305618], [32.0, 0.6035850002224195, 0.3964149997775806], [33.0, 0.6024651278480477, 0.39753487215195227], [34.0, 0.6013420918342184, 0.39865790816578167], [35.0, 0.60021588324365, 0.39978411675635], [36.0, 0.5990864931138133, 0.40091350688618665], [37.0, 0.5979539124568598, 0.4020460875431402], [38.0, 0.5968181322595504, 0.40318186774044956], [39.0, 0.5956791434831837, 0.40432085651681626], [40.0, 0.5945369370635235, 0.40546306293647644], [41.0, 0.593391503910728, 0.40660849608927196], [42.0, 0.5922428349092759, 0.4077571650907241], [43.0, 0.5910909209178944, 0.4089090790821056], [44.0, 0.5899357527694876, 0.41006424723051244], [45.0, 0.5887773212710613, 0.4112226787289387], [46.0, 0.587615617203652, 0.4123843827963481], [47.0, 0.5864506313222523, 0.4135493686777477], [48.0, 0.5852823543557376, 0.41471764564426244], [49.0, 0.5841107770067925, 0.4158892229932076], [50.0, 0.5829358899518368, 0.41706411004816324], [51.0, 0.5817576838409507, 0.41824231615904933], [52.0, 0.5805761492978012, 0.4194238507021988], [53.0, 0.5793912769195674, 0.4206087230804326], [54.0, 0.5782030572768653, 0.4217969427231347], [55.0, 0.5770114809136724, 0.4229885190863277], [56.0, 0.5758165383472534, 0.42418346165274656], [57.0, 0.5746182200680845, 0.4253817799319155], [58.0, 0.5734165165397767, 0.4265834834602233], [59.0, 0.5722114181990016, 0.42778858180099844], [60.0, 0.5710029154554137, 0.42899708454458635], [61.0, 0.5697909986915751, 0.4302090013084249], [62.0, 0.5685756582628789, 0.4314243417371211], [63.0, 0.5673568844974715, 0.4326431155025285], [64.0, 0.5661346676961769, 0.4338653323038231], [65.0, 0.5649089981324185, 0.43509100186758154], [66.0, 0.5636798660521426, 0.43632013394785746], [67.0, 0.5624472616737398, 0.4375527383262602], [68.0, 0.5612111751879681, 0.4387888248120319], [69.0, 0.559971596757874, 0.440028403242126], [70.0, 0.558728516518715, 0.441271483481285], [71.0, 0.5574819245778803, 0.4425180754221197], [72.0, 0.5562318110148128, 0.44376818898518716], [73.0, 0.5549781658809296, 0.44502183411907037], [74.0, 0.5537209791995432, 0.44627902080045684], [75.0, 0.5524602409657818, 0.4475397590342181], [76.0, 0.5511959411465102, 0.4488040588534899], [77.0, 0.5499280696802489, 0.45007193031975107], [78.0, 0.5486566164770957, 0.4513433835229043], [79.0, 0.5473815714186435, 0.4526184285813565], [80.0, 0.546102924357901, 0.45389707564209897], [81.0, 0.5448206651192122, 0.4551793348807878], [82.0, 0.543534783498174, 0.45646521650182603], [83.0, 0.5422452692615561, 0.4577547307384438], [84.0, 0.5409521121472202, 0.45904788785277983], [85.0, 0.5396553018640358, 0.4603446981359642], [86.0, 0.5383548280918019, 0.46164517190819815], [87.0, 0.537050680481161, 0.46294931951883894], [88.0, 0.5357428486535203, 0.46425715134647966], [89.0, 0.5344313222009663, 0.46556867779903366], [90.0, 0.5331160906861843, 0.4668839093138158], [91.0, 0.5317971436423726, 0.46820285635762743], [92.0, 0.5304744705731622, 0.46952552942683784], [93.0, 0.5291480609525315, 0.4708519390474685], [94.0, 0.5278179042247224, 0.47218209577527764], [95.0, 0.526483989804157, 0.473516010195843], [96.0, 0.5251463070753537, 0.47485369292464624], [97.0, 0.5238048453928417, 0.4761951546071584], [98.0, 0.5224595940810763, 0.47754040591892366], [99.0, 0.5211105424343554, 0.47888945756564466], [100.0, 0.5197576797167325, 0.4802423202832675], [101.0, 0.5184009951619323, 0.4815990048380677], [102.0, 0.5170404779732645, 0.48295952202673553], [103.0, 0.5156761173235389, 0.48432388267646104], [104.0, 0.514307902354978, 0.48569209764502197], [105.0, 0.5129358221791308, 0.4870641778208692], [106.0, 0.5115598658767867, 0.4884401341232133], [107.0, 0.5101800224978885, 0.4898199775021115], [108.0, 0.508796281061445, 0.491203718938555], [109.0, 0.5074086305554435, 0.49259136944455645], [110.0, 0.5060170599367628, 0.4939829400632372], [111.0, 0.504621558131084, 0.495378441868916], [112.0, 0.5032221140328044, 0.4967778859671957], [113.0, 0.5018187165049469, 0.4981812834950531], [114.0, 0.5004113543790734, 0.4995886456209266], [115.0, 0.49900001645519426, 0.5009999835448057], [116.0, 0.4975846915016801, 0.50241530849832], [117.0, 0.4961653682551724, 0.5038346317448277], [118.0, 0.4947420354204932, 0.5052579645795068], [119.0, 0.49331468167055603, 0.506685318329444], [120.0, 0.49188329564627536, 0.5081167043537247], [121.0, 0.4904478659564759, 0.5095521340435242], [122.0, 0.4890083811778031, 0.5109916188221969], [123.0, 0.4875648298546302, 0.5124351701453699], [124.0, 0.4861172004989696, 0.5138827995010303], [125.0, 0.48466548159037914, 0.5153345184096209], [126.0, 0.4832096615758718, 0.5167903384241282], [127.0, 0.48174972886982365, 0.5182502711301764], [128.0, 0.4802856718538809, 0.5197143281461191], [129.0, 0.47881747887686804, 0.5211825211231319], [130.0, 0.4773451382546952, 0.5226548617453048], [131.0, 0.47586863827026454, 0.5241313617297354], [132.0, 0.47438796717337817, 0.5256120328266218], [133.0, 0.4729031131806429, 0.5270968868193572], [134.0, 0.47141406447537815, 0.5285859355246219], [135.0, 0.469920809207521, 0.530079190792479], [136.0, 0.46842333549353216, 0.5315766645064679], [137.0, 0.46692163141630144, 0.5330783685836985], [138.0, 0.46541568502505226, 0.5345843149749478], [139.0, 0.4639054843352482, 0.5360945156647517], [140.0, 0.4623910173284952, 0.5376089826715048], [141.0, 0.4608722719524481, 0.5391277280475519], [142.0, 0.45934923612071377, 0.5406507638792862], [143.0, 0.4578218977127548, 0.5421781022872452], [144.0, 0.4562902445737933, 0.5437097554262068], [145.0, 0.45475426451471423, 0.5452457354852859], [146.0, 0.4532139453119681, 0.5467860546880319], [147.0, 0.4516692747074745, 0.5483307252925255], [148.0, 0.45012024040852305, 0.549879759591477], [149.0, 0.448566830087677, 0.5514331699123229], [150.0, 0.4470090313826746, 0.5529909686173253], [151.0, 0.44544683189633066, 0.5545531681036694], [152.0, 0.44388021919643766, 0.5561197808035624], [153.0, 0.44230918081566784, 0.5576908191843322], [154.0, 0.44073370425147185, 0.5592662957485282], [155.0, 0.43915377696598235, 0.5608462230340177], [156.0, 0.43756938638591114, 0.5624306136140889], [157.0, 0.4359805199024513, 0.5640194800975487], [158.0, 0.4343871648711757, 0.5656128351288243], [159.0, 0.4327893086119367, 0.5672106913880633], [160.0, 0.4311869384087654, 0.5688130615912346], [161.0, 0.42958004150977014, 0.5704199584902299], [162.0, 0.42796860512703516, 0.5720313948729648], [163.0, 0.426352616436519, 0.573647383563481], [164.0, 0.42473206257795226, 0.5752679374220478], [165.0, 0.42310693065473465, 0.5768930693452653], [166.0, 0.42147720773383435, 0.5785227922661657], [167.0, 0.4198428808456823, 0.5801571191543178], [168.0, 0.4182039369840715, 0.5817960630159285], [169.0, 0.4165603631060514, 0.5834396368939486], [170.0, 0.414912146131826, 0.5850878538681741], [171.0, 0.41325927294464826, 0.5867407270553517], [172.0, 0.41160173039071674, 0.5883982696092832], [173.0, 0.4099395052790706, 0.5900604947209295], [174.0, 0.4082725843814839, 0.591727415618516], [175.0, 0.4066009544323616, 0.5933990455676385], [176.0, 0.40492460212863285, 0.5950753978713672], [177.0, 0.40324351412964643, 0.5967564858703536], [178.0, 0.40155767705706263, 0.5984423229429373], [179.0, 0.3998670774947486, 0.6001329225052514], [180.0, 0.3981717019886712, 0.6018282980113289], [181.0, 0.3964715370467892, 0.6035284629532107], [182.0, 0.39476656913894637, 0.6052334308610537], [183.0, 0.3930567846967638, 0.6069432153032362], [184.0, 0.391342170113532, 0.6086578298864679], [185.0, 0.3896227117441029, 0.6103772882558971], [186.0, 0.3878983959047799, 0.6121016040952202], [187.0, 0.3861692088732109, 0.6138307911267892], [188.0, 0.38443513688827763, 0.6155648631117224], [189.0, 0.3826961661499869, 0.6173038338500131], [190.0, 0.38095228281936055, 0.6190477171806396], [191.0, 0.3792034730183252, 0.6207965269816748], [192.0, 0.3774497228296021, 0.6225502771703979], [193.0, 0.37569101829659557, 0.6243089817034045], [194.0, 0.37392734542328326, 0.6260726545767168], [195.0, 0.3721586901741041, 0.6278413098258959], [196.0, 0.3703850384738459, 0.6296149615261541], [197.0, 0.36860637620753456, 0.6313936237924654], [198.0, 0.36682268922032063, 0.6331773107796794], [199.0, 0.36503396331736804, 0.634966036682632], [200.0, 0.3632401842637395, 0.6367598157362604], [201.0, 0.36144133778428456, 0.6385586622157154], [202.0, 0.3596374095635251, 0.6403625904364749], [203.0, 0.35782838524554206, 0.6421716147544579], [204.0, 0.35601425043386076, 0.6439857495661392], [205.0, 0.3541949906913362, 0.6458050093086638], [206.0, 0.35237059154003914, 0.6476294084599608], [207.0, 0.3505410384611397, 0.6494589615388602], [208.0, 0.3487063168947924, 0.6512936831052075], [209.0, 0.3468664122400203, 0.6531335877599798], [210.0, 0.34502130985459817, 0.6549786901454018], [211.0, 0.34317099505493737, 0.6568290049450627], [212.0, 0.3413154531159676, 0.6586845468840324], [213.0, 0.3394546692710201, 0.6605453307289799], [214.0, 0.3375886287117107, 0.6624113712882892], [215.0, 0.33571731658782117, 0.6642826834121788], [216.0, 0.3338407180071817, 0.6661592819928183], [217.0, 0.33195881803555194, 0.6680411819644481], [218.0, 0.33007160169650235, 0.6699283983034977], [219.0, 0.3281790539712949, 0.6718209460287051], [220.0, 0.32628115979876376, 0.6737188402012362], [221.0, 0.3243779040751953, 0.6756220959248047], [222.0, 0.32246927165420763, 0.6775307283457924], [223.0, 0.3205552473466307, 0.6794447526533692], [224.0, 0.31863581592038503, 0.681364184079615], [225.0, 0.31671096210036004, 0.68328903789964], [226.0, 0.3147806705682935, 0.6852193294317064], [227.0, 0.3128449259626488, 0.6871550740373512], [228.0, 0.31090371287849317, 0.6890962871215067], [229.0, 0.3089570158673749, 0.6910429841326251], [230.0, 0.3070048194372003, 0.6929951805627996], [231.0, 0.3050471080521103, 0.6949528919478898], [232.0, 0.30308386613235727, 0.6969161338676427], [233.0, 0.30111507805418125, 0.6988849219458187], [234.0, 0.2991407281496841, 0.7008592718503158], [235.0, 0.2971608007067069, 0.7028391992932931], [236.0, 0.29517527996870335, 0.7048247200312967], [237.0, 0.293184150134615, 0.706815849865385], [238.0, 0.2911873953587451, 0.7088126046412548], [239.0, 0.28918499975063344, 0.7108150002493666], [240.0, 0.28717694737492916, 0.7128230526250708], [241.0, 0.2851632222512632, 0.7148367777487368], [242.0, 0.2831438083541229, 0.7168561916458771], [243.0, 0.28111868961272335, 0.7188813103872768], [244.0, 0.27908784991087904, 0.7209121500891209], [245.0, 0.27705127308687727, 0.7229487269131227], [246.0, 0.27500894293334777, 0.7249910570666522], [247.0, 0.2729608431971345, 0.7270391568028655], [248.0, 0.2709069575791663, 0.7290930424208337], [249.0, 0.2688472697343273, 0.7311527302656727], [250.0, 0.26678176327132697, 0.733218236728673], [251.0, 0.2647104217525682, 0.7352895782474317], [252.0, 0.2626332286940192, 0.7373667713059808], [253.0, 0.26055016756507987, 0.7394498324349201], [254.0, 0.258461221788451, 0.741538778211549], [255.0, 0.2563663747400032, 0.7436336252599968], [256.0, 0.25426560974864365, 0.7457343902513563], [257.0, 0.2521589100961836, 0.7478410899038165], [258.0, 0.2500462590172053, 0.7499537409827947], [259.0, 0.2479276396989289, 0.7520723603010712], [260.0, 0.24580303528107816, 0.7541969647189218], [261.0, 0.243672428855747, 0.756327571144253], [262.0, 0.24153580346726466, 0.7584641965327353], [263.0, 0.23939314211205964, 0.7606068578879404], [264.0, 0.2372444277385263, 0.7627555722614736], [265.0, 0.23508964324688758, 0.7649103567531125], [266.0, 0.23292877148905972, 0.7670712285109402], [267.0, 0.23076179526851653, 0.7692382047314834], [268.0, 0.22858869734015003, 0.77141130265985], [269.0, 0.2264094604101357, 0.7735905395898642], [270.0, 0.22422406713579424, 0.7757759328642058], [271.0, 0.22203250012545261, 0.7779674998745474], [272.0, 0.21983474193830707, 0.7801652580616929], [273.0, 0.21763077508428286, 0.7823692249157171], [274.0, 0.21542058202389586, 0.7845794179761041], [275.0, 0.21320414516811312, 0.786795854831887], [276.0, 0.21098144687821316, 0.7890185531217868], [277.0, 0.20875246946564402, 0.7912475305343559], [278.0, 0.2065171951918844, 0.7934828048081156], [279.0, 0.2042756062683014, 0.7957243937316986], [280.0, 0.20202768485600928, 0.7979723151439907], [281.0, 0.1997734130657274, 0.8002265869342726], [282.0, 0.1975127729576381, 0.802487227042362], [283.0, 0.19524574654124338, 0.8047542534587566], [284.0, 0.19297231577522236, 0.8070276842247777], [285.0, 0.1906924625672871, 0.8093075374327129], [286.0, 0.18840616877403968, 0.8115938312259603], [287.0, 0.1861134162008264, 0.8138865837991736], [288.0, 0.18381418660159377, 0.8161858133984062], [289.0, 0.18150846167874307, 0.8184915383212569], [290.0, 0.1791962230829854, 0.8208037769170146], [291.0, 0.176877452413195, 0.823122547586805], [292.0, 0.17455213121626223, 0.8254478687837378], [293.0, 0.17222024098694785, 0.8277797590130521], [294.0, 0.16988176316773598, 0.8301182368322639], [295.0, 0.1675366791486849, 0.8324633208513151], [296.0, 0.16518497026727968, 0.8348150297327203], [297.0, 0.16282661780828495, 0.8371733821917151], [298.0, 0.16046160300359316, 0.8395383969964068], [299.0, 0.15808990703207812, 0.8419100929679219], [300.0, 0.15571151101944355, 0.8442884889805564], [301.0, 0.1533263960380739, 0.846673603961926], [302.0, 0.15093454310688112, 0.8490654568931189], [303.0, 0.14853593319115804, 0.8514640668088419], [304.0, 0.1461305472024231, 0.853869452797577], [305.0, 0.14371836599826965, 0.8562816340017303], [306.0, 0.14129937038221446, 0.8587006296177856], [307.0, 0.13887354110354452, 0.8611264588964556], [308.0, 0.1364408588571621, 0.8635591411428378], [309.0, 0.13400130428343363, 0.8659986957165664], [310.0, 0.13155485796803376, 0.8684451420319662], [311.0, 0.12910150044179347, 0.8708984995582066], [312.0, 0.1266412121805416, 0.8733587878194584], [313.0, 0.1241739736049516, 0.8758260263950484], [314.0, 0.12169976508038523, 0.8783002349196147], [315.0, 0.11921856691673745, 0.8807814330832626], [316.0, 0.11673035936827716, 0.8832696406317229], [317.0, 0.11423512263349234, 0.8857648773665077], [318.0, 0.11173283685493178, 0.8882671631450682], [319.0, 0.10922348211904696, 0.890776517880953], [320.0, 0.10670703845603331, 0.8932929615439668], [321.0, 0.10418348583967164, 0.8958165141603284], [322.0, 0.10165280418716839, 0.8983471958128316], [323.0, 0.0991149733589973, 0.9008850266410027], [324.0, 0.09656997315873637, 0.9034300268412636], [325.0, 0.0940177833329098, 0.9059822166670901], [326.0, 0.0914583835708251, 0.908541616429175], [327.0, 0.08889175350441283, 0.9111082464955872], [328.0, 0.08631787270806274, 0.9136821272919373], [329.0, 0.08373672069846265, 0.9162632793015374], [330.0, 0.08114827693443559, 0.9188517230655644], [331.0, 0.07855252081677565, 0.9214474791832243], [332.0, 0.07594943168808263, 0.9240505683119175], [333.0, 0.07333898883260169, 0.9266610111673983], [334.0, 0.07072117147605379, 0.9292788285239462], [335.0, 0.06809595878547371, 0.9319040412145263], [336.0, 0.0654633298690424, 0.9345366701309575], [337.0, 0.06282326377592212, 0.9371767362240779], [338.0, 0.06017573949608935, 0.9398242605039105], [339.0, 0.05752073596016574, 0.9424792640398342], [340.0, 0.05485823203925296, 0.945141767960747], [341.0, 0.05218820654476361, 0.9478117934552364], [342.0, 0.049510638228252496, 0.9504893617717475], [343.0, 0.046825505781247535, 0.9531744942187524], [344.0, 0.04413278783507936, 0.9558672121649207], [345.0, 0.041432462960713234, 0.9585675370392868], [346.0, 0.03872450966857732, 0.9612754903314227], [347.0, 0.036008906408391, 0.963991093591609], [348.0, 0.03328563156899474, 0.9667143684310052], [349.0, 0.030554663478177143, 0.9694453365218229], [350.0, 0.02781598040250314, 0.9721840195974969], [351.0, 0.025069560547140046, 0.97493043945286], [352.0, 0.022315382055685472, 0.9776846179443145], [353.0, 0.01955342300999264, 0.9804465769900074], [354.0, 0.01678366142999573, 0.9832163385700043], [355.0, 0.01400607527353548, 0.9859939247264645], [356.0, 0.01122064243618325, 0.9887793575638167], [357.0, 0.00842734075106529, 0.9915726592489347], [358.0, 0.005626147988687092, 0.9943738520113129], [359.0, 0.0028170418567547645, 0.9971829581432452]], \"data02\": [[0.026881720430107503, 0.9379139072847682, 0.8689293598233996, 0.7999448123620307, 0.7309602649006621], [0.08661887694145756, 0.9379139072847682, 0.8689293598233996, 0.7999448123620307, 0.7309602649006621]]}, \"id\": \"el557074742090200\"});\n",
       "            })\n",
       "         });\n",
       "}\n",
       "</script>"
      ],
      "text/plain": [
       "<IPython.core.display.HTML object>"
      ]
     },
     "execution_count": 472,
     "metadata": {},
     "output_type": "execute_result"
    }
   ],
   "source": [
    "#import matplotlib.pyplot as plt\n",
    "import matplotlib.pyplot as plt, mpld3\n",
    "\n",
    "# gca stands for 'get current axis'\n",
    "ax = plt.gca()\n",
    "\n",
    "plt.plot(df['interest rent share']/mortgage, 'blue', label='interest rent share')\n",
    "plt.plot(df['equity rent share']/mortgage, 'red', label='equity rent share')\n",
    "\n",
    "#line, = ax.plot([1, 2, 3], label='Inline label')\n",
    "ax.legend()\n",
    "plt.title('Evolution of the equity/interest share paid over time')\n",
    "#plt.show()\n",
    "plt.grid()\n",
    "mpld3.display()\n",
    "#mpld3.show()"
   ]
  },
  {
   "cell_type": "code",
   "execution_count": 470,
   "metadata": {
    "collapsed": false
   },
   "outputs": [
    {
     "data": {
      "image/png": "[encoded data removed]",
      "text/plain": [
       "<matplotlib.figure.Figure at 0x11a75a048>"
      ]
     },
     "metadata": {},
     "output_type": "display_data"
    }
   ],
   "source": [
    "import matplotlib.animation as animation\n",
    "\n",
    "# visualizing c/p surface\n",
    "rs = np.linspace(0.00001, .3)\n",
    "ns = np.linspace(10, 30*12)\n",
    "X, Y = np.meshgrid(rs, ns)\n",
    "\n",
    "pc = mortgageMultiplier(X, Y)\n",
    "\n",
    "fig = plt.figure()\n",
    "ax = plt.axes(projection='3d')\n",
    "ax.contour3D(X, Y, pc, 50)\n",
    "ax.set_xlabel('r')\n",
    "ax.set_ylabel('n')\n",
    "ax.set_zlabel('c/p');\n",
    "\n",
    "# changes the angle\n",
    "ax.view_init(10, 15)\n",
    "\n",
    "plt.show()\n",
    "#mpld3.show()\n",
    "#mpld3.display()\n"
   ]
  },
  {
   "cell_type": "code",
   "execution_count": null,
   "metadata": {
    "collapsed": true
   },
   "outputs": [],
   "source": []
  }
 ],
 "metadata": {
  "anaconda-cloud": {},
  "kernelspec": {
   "display_name": "Python [default]",
   "language": "python",
   "name": "python3"
  },
  "language_info": {
   "codemirror_mode": {
    "name": "ipython",
    "version": 3
   },
   "file_extension": ".py",
   "mimetype": "text/x-python",
   "name": "python",
   "nbconvert_exporter": "python",
   "pygments_lexer": "ipython3",
   "version": "3.5.2"
  }
 },
 "nbformat": 4,
 "nbformat_minor": 1
}
