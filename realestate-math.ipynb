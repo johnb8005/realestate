{
 "cells": [
  {
   "cell_type": "code",
   "execution_count": 232,
   "metadata": {
    "collapsed": true
   },
   "outputs": [],
   "source": [
    "import numpy as np"
   ]
  },
  {
   "cell_type": "markdown",
   "metadata": {},
   "source": [
    "$(1 + \\text{geometric return})^n = \\prod_{i=1}^n{1+r_i}$\n",
    "\n",
    "$\\text{geometric return} = \\sqrt[n]{\\prod_{i=1}^n{1+r_i}} - 1$"
   ]
  },
  {
   "cell_type": "code",
   "execution_count": 233,
   "metadata": {
    "collapsed": false
   },
   "outputs": [],
   "source": [
    "def geometricReturn(rs):\n",
    "    l = 1\n",
    "    for r in rs:\n",
    "        l *= 1 + r\n",
    "    \n",
    "    return l**(1/len(rs)) - 1"
   ]
  },
  {
   "cell_type": "code",
   "execution_count": 234,
   "metadata": {
    "collapsed": false
   },
   "outputs": [
    {
     "data": {
      "text/plain": [
       "0.055334022907651992"
      ]
     },
     "execution_count": 234,
     "metadata": {},
     "output_type": "execute_result"
    }
   ],
   "source": [
    "rs = np.array([3, 7, 5, 12, 1])/100\n",
    "geometricReturn(rs)"
   ]
  },
  {
   "cell_type": "code",
   "execution_count": 235,
   "metadata": {
    "collapsed": false
   },
   "outputs": [
    {
     "data": {
      "text/plain": [
       "0.055357881080939197"
      ]
     },
     "execution_count": 235,
     "metadata": {},
     "output_type": "execute_result"
    }
   ],
   "source": [
    "rs = np.array([4, 6, 5, 6, 6.7])/100\n",
    "geometricReturn(rs)"
   ]
  },
  {
   "cell_type": "markdown",
   "metadata": {
    "collapsed": true
   },
   "source": [
    "## House / Mortgage pricing"
   ]
  },
  {
   "cell_type": "markdown",
   "metadata": {
    "collapsed": true
   },
   "source": [
    "\n",
    "## derivation\n",
    "\n",
    "if $m_i$ is the amount due at the end of the $i$th month, every month the amount due is increased by the interest such that:\n",
    "\n",
    "* $m_0 = p$\n",
    "* $m_1 = (1+r)m_0 - c$\n",
    "* $m_2 = (1+r)m_1 - c = (1+r)^2p - c[1 + (1+r)]$\n",
    "* $m_3 = (1+r)m_2 - c = (1+r)^3p - c[1 + (1+r) + (1+r^2)]$\n",
    "\n",
    "from the above it is easy to infer that\n",
    "\n",
    "$m_n = (1+r)^np - c\\sum_{i=0}^{n-1}(1+r)^i \\stackrel{\\text{Geometric Series}}{=} (1+r)^np - c\\frac{(1+r)^n-1}{r}$\n",
    "\n"
   ]
  },
  {
   "cell_type": "code",
   "execution_count": 430,
   "metadata": {
    "collapsed": true
   },
   "outputs": [],
   "source": [
    "def dueAtN(p, c, r, n):\n",
    "    return p*(1+r)**n  - c*((1+r)**n -1)/r"
   ]
  },
  {
   "cell_type": "markdown",
   "metadata": {
    "collapsed": true
   },
   "source": [
    "### Setting the equality\n",
    "\n",
    "at month $n=N$ the loan must be paid off and hence $m_N = 0$ leading to\n",
    "\n",
    "$(1+r)^Np = c\\frac{(1+r)^N-1}{r}$\n",
    "\n",
    "from which we get\n",
    "\n",
    "$\\frac{c}{p} = \\frac{r(1+r)^N}{(1+r)^N-1} = \\frac{r}{1-(1+r)^{-N}}$\n",
    "\n",
    "note that when $r = 0$, \n",
    "\n",
    "$\\frac{p}{c}= \\lim_{r \\to 0} \\frac{1-(1+r)^{-N}}{r} = \\frac{\\lim_{r \\to 0}1-(1+r)^{-N}}{\\lim_{r \\to 0}r}\\stackrel{\\text{L'Hôpital}}{=} \\frac{\\lim_{r \\to 0}N(1+r)^{-N-1}}{\\lim_{r \\to 0}1} = N $\n",
    "\n"
   ]
  },
  {
   "cell_type": "code",
   "execution_count": 431,
   "metadata": {
    "collapsed": false
   },
   "outputs": [],
   "source": [
    "def mortgageMultiplier(r, n):\n",
    "    d = 1 - (1+r)**(-n)\n",
    "    return r/d\n",
    "\n",
    "\"\"\"\n",
    " ref: https://en.wikipedia.org/wiki/Mortgage_calculator#Monthly_payment_formula\n",
    "\"\"\"\n",
    "def mortgageRepayment(p, r, n):\n",
    "    return p * mortgageMultiplier(r, n)"
   ]
  },
  {
   "cell_type": "code",
   "execution_count": 432,
   "metadata": {
    "collapsed": false
   },
   "outputs": [
    {
     "name": "stdout",
     "output_type": "stream",
     "text": [
      "True\n",
      "True\n",
      "True\n",
      "True\n"
     ]
    }
   ],
   "source": [
    "# test of the above\n",
    "p = 100000\n",
    "r = 3.92/100/12\n",
    "N = 25*12\n",
    "m1 = mortgageRepayment(p, r, N)\n",
    "print(np.round(m1) == 523)\n",
    "print(np.round(m1*N) == 157029)\n",
    "\n",
    "# test here\n",
    "p = 1000000\n",
    "r = 1/100/12\n",
    "N = 20*12\n",
    "m2 = mortgageRepayment(1000000, 1./100/12, 20*12)\n",
    "print(np.round(m2) == 4599)\n",
    "print(np.round(m2*N) == 1103746)\n"
   ]
  },
  {
   "cell_type": "markdown",
   "metadata": {},
   "source": [
    "### Total cost of the mortgage\n",
    "\n",
    "$\\text{total cost} = cN$"
   ]
  },
  {
   "cell_type": "markdown",
   "metadata": {},
   "source": [
    "### Total interest paid\n",
    "\n",
    "the total amount of interest paid will hence be\n",
    "\n",
    "$I = cN - p$"
   ]
  },
  {
   "cell_type": "markdown",
   "metadata": {},
   "source": [
    "### Interest paid at time $n$\n",
    "\n",
    "note the symbol $\\delta$ used for interest (force of interest: https://en.wikipedia.org/wiki/Compound_interest#Force_of_interest)\n",
    "\n",
    "$\\delta_n = rm_n = (pr -c)(1+r)^n + c = pr(1+r)^n - c((1+r)^n-1) $"
   ]
  },
  {
   "cell_type": "code",
   "execution_count": 433,
   "metadata": {
    "collapsed": true
   },
   "outputs": [],
   "source": [
    "def interestAtN(p, c, r, n):\n",
    "    return dueAtN(p, c, r, n)*r"
   ]
  },
  {
   "cell_type": "markdown",
   "metadata": {},
   "source": [
    "### Cumulative interest paid until $n$\n",
    "\n",
    "$\\sum_{k=0}^{n-1} \\delta_k = \\sum_{k=0}^{n-1} \\left(pr(1+r)^k - c((1+r)^k-1)\\right) = \\sum_{k=0}^{n-1} \\left((pr-c)\n",
    "(1+r)^k +c\\right)= \\sum_{k=0}^{n-1} (pr-c)(1+r)^k +\\sum_{k=0}^{n-1}c$"
   ]
  },
  {
   "cell_type": "code",
   "execution_count": 434,
   "metadata": {
    "collapsed": true
   },
   "outputs": [],
   "source": [
    "\"\"\"\n",
    "cumulative interests\n",
    "\n",
    "\"\"\"\n",
    "def interestAtN(p, c, r, n):\n",
    "    return (p*r - c)*((1+r)**n-1)/r + c*n"
   ]
  },
  {
   "cell_type": "markdown",
   "metadata": {},
   "source": [
    "we can find $I$ again by setting $n=N$\n",
    "\n",
    "$I = \\sum_{k=0}^{N-1} \\delta_k =(pr-c)\\frac{(1+r)^N - 1}{r} + cN= ... = -p + cN$\n",
    "\n",
    "#### derivation for the $p$ below\n",
    "\n",
    "$-p = (pr -c)\\frac{(1+r)^N-1}{r}$\n",
    "\n",
    "$ -p = \\left(pr -\\frac{pr}{1-(1+r)^{-N}}\\right)\\frac{(1+r)^N-1}{r}$\n",
    "\n",
    "$ -p = p\\left(1 -\\frac{1}{1-(1+r)^{-N}}\\right)\\left((1+r)^N-1\\right)$\n",
    "\n",
    "$ -p = p\\underbrace{\\frac{-(1+r)^{-N}}{1-(1+r)^{-N}}\\frac{1-(1+r)^{-N}}{(1+r)^{-N}}}_{-1}=-p$"
   ]
  },
  {
   "cell_type": "code",
   "execution_count": 435,
   "metadata": {
    "collapsed": false
   },
   "outputs": [
    {
     "name": "stdout",
     "output_type": "stream",
     "text": [
      "principal of 880.0\n"
     ]
    }
   ],
   "source": [
    "# defining principal\n",
    "pricehouse = 1000\n",
    "downpaymentP = .2\n",
    "fixCostP = .1\n",
    "fixCost = pricehouse * fixCostP\n",
    "totalCost = pricehouse*(1+fixCostP)\n",
    "downpayment = totalCost*downpaymentP\n",
    "principal = totalCost - downpayment\n",
    "print('principal of {}'.format(principal))"
   ]
  },
  {
   "cell_type": "code",
   "execution_count": 436,
   "metadata": {
    "collapsed": false
   },
   "outputs": [
    {
     "name": "stdout",
     "output_type": "stream",
     "text": [
      "yearly interest of 3.39% and monthly of 0.28%\n"
     ]
    }
   ],
   "source": [
    "# interest\n",
    "rYearly = .0339\n",
    "r = rYearly / 12\n",
    "\n",
    "print('yearly interest of {}% and monthly of {}%'.format(np.round(100*rYearly, 2), np.round(100*r, 2)))"
   ]
  },
  {
   "cell_type": "code",
   "execution_count": 437,
   "metadata": {
    "collapsed": false
   },
   "outputs": [
    {
     "name": "stdout",
     "output_type": "stream",
     "text": [
      "N=30 years and 12N=360 months\n"
     ]
    }
   ],
   "source": [
    "# loan duration\n",
    "NYear = 30\n",
    "N = int(NYear * 12)\n",
    "\n",
    "print('N={} years and 12N={} months'.format(NYear, N))"
   ]
  },
  {
   "cell_type": "code",
   "execution_count": 438,
   "metadata": {
    "collapsed": true
   },
   "outputs": [],
   "source": [
    "# income\n",
    "rent = 15"
   ]
  },
  {
   "cell_type": "code",
   "execution_count": 439,
   "metadata": {
    "collapsed": true
   },
   "outputs": [],
   "source": [
    "# cost\n",
    "cost = rent * .15"
   ]
  },
  {
   "cell_type": "code",
   "execution_count": 440,
   "metadata": {
    "collapsed": false
   },
   "outputs": [
    {
     "data": {
      "text/plain": [
       "0.6954545454545454"
      ]
     },
     "execution_count": 440,
     "metadata": {},
     "output_type": "execute_result"
    }
   ],
   "source": [
    "profitMonth = rent - cost\n",
    "profit = profitMonth * 12\n",
    "returnYearly = profit/downpayment\n",
    "returnYearly"
   ]
  },
  {
   "cell_type": "code",
   "execution_count": 441,
   "metadata": {
    "collapsed": true
   },
   "outputs": [],
   "source": [
    "import pandas as pd"
   ]
  },
  {
   "cell_type": "code",
   "execution_count": 442,
   "metadata": {
    "collapsed": false
   },
   "outputs": [
    {
     "data": {
      "text/plain": [
       "3.8977570981111955"
      ]
     },
     "execution_count": 442,
     "metadata": {},
     "output_type": "execute_result"
    }
   ],
   "source": [
    "# mortgage repayment\n",
    "monthlyRepayment = mortgageRepayment(principal, r, N)\n",
    "monthlyRepayment"
   ]
  },
  {
   "cell_type": "code",
   "execution_count": 443,
   "metadata": {
    "collapsed": false
   },
   "outputs": [
    {
     "name": "stdout",
     "output_type": "stream",
     "text": [
      "total interest: 523.0 or 523.0\n",
      "total equity: 880.0 or 880.0\n"
     ]
    },
    {
     "data": {
      "text/html": [
       "<div>\n",
       "<style>\n",
       "    .dataframe thead tr:only-child th {\n",
       "        text-align: right;\n",
       "    }\n",
       "\n",
       "    .dataframe thead th {\n",
       "        text-align: left;\n",
       "    }\n",
       "\n",
       "    .dataframe tbody tr th {\n",
       "        vertical-align: top;\n",
       "    }\n",
       "</style>\n",
       "<table border=\"1\" class=\"dataframe\">\n",
       "  <thead>\n",
       "    <tr style=\"text-align: right;\">\n",
       "      <th></th>\n",
       "      <th>mortgage</th>\n",
       "      <th>interest rent share</th>\n",
       "      <th>equity rent share</th>\n",
       "      <th>still due</th>\n",
       "    </tr>\n",
       "  </thead>\n",
       "  <tbody>\n",
       "    <tr>\n",
       "      <th>0</th>\n",
       "      <td>3.897757</td>\n",
       "      <td>2.486000</td>\n",
       "      <td>1.411757</td>\n",
       "      <td>880.000000</td>\n",
       "    </tr>\n",
       "    <tr>\n",
       "      <th>1</th>\n",
       "      <td>3.897757</td>\n",
       "      <td>2.482012</td>\n",
       "      <td>1.415745</td>\n",
       "      <td>878.588243</td>\n",
       "    </tr>\n",
       "    <tr>\n",
       "      <th>2</th>\n",
       "      <td>3.897757</td>\n",
       "      <td>2.478012</td>\n",
       "      <td>1.419745</td>\n",
       "      <td>877.172498</td>\n",
       "    </tr>\n",
       "    <tr>\n",
       "      <th>3</th>\n",
       "      <td>3.897757</td>\n",
       "      <td>2.474002</td>\n",
       "      <td>1.423756</td>\n",
       "      <td>875.752753</td>\n",
       "    </tr>\n",
       "    <tr>\n",
       "      <th>4</th>\n",
       "      <td>3.897757</td>\n",
       "      <td>2.469979</td>\n",
       "      <td>1.427778</td>\n",
       "      <td>874.328997</td>\n",
       "    </tr>\n",
       "    <tr>\n",
       "      <th>5</th>\n",
       "      <td>3.897757</td>\n",
       "      <td>2.465946</td>\n",
       "      <td>1.431811</td>\n",
       "      <td>872.901220</td>\n",
       "    </tr>\n",
       "    <tr>\n",
       "      <th>6</th>\n",
       "      <td>3.897757</td>\n",
       "      <td>2.461901</td>\n",
       "      <td>1.435856</td>\n",
       "      <td>871.469408</td>\n",
       "    </tr>\n",
       "    <tr>\n",
       "      <th>7</th>\n",
       "      <td>3.897757</td>\n",
       "      <td>2.457845</td>\n",
       "      <td>1.439912</td>\n",
       "      <td>870.033552</td>\n",
       "    </tr>\n",
       "    <tr>\n",
       "      <th>8</th>\n",
       "      <td>3.897757</td>\n",
       "      <td>2.453777</td>\n",
       "      <td>1.443980</td>\n",
       "      <td>868.593640</td>\n",
       "    </tr>\n",
       "    <tr>\n",
       "      <th>9</th>\n",
       "      <td>3.897757</td>\n",
       "      <td>2.449698</td>\n",
       "      <td>1.448059</td>\n",
       "      <td>867.149660</td>\n",
       "    </tr>\n",
       "    <tr>\n",
       "      <th>10</th>\n",
       "      <td>3.897757</td>\n",
       "      <td>2.445607</td>\n",
       "      <td>1.452150</td>\n",
       "      <td>865.701601</td>\n",
       "    </tr>\n",
       "    <tr>\n",
       "      <th>11</th>\n",
       "      <td>3.897757</td>\n",
       "      <td>2.441505</td>\n",
       "      <td>1.456252</td>\n",
       "      <td>864.249451</td>\n",
       "    </tr>\n",
       "    <tr>\n",
       "      <th>12</th>\n",
       "      <td>3.897757</td>\n",
       "      <td>2.437391</td>\n",
       "      <td>1.460366</td>\n",
       "      <td>862.793198</td>\n",
       "    </tr>\n",
       "    <tr>\n",
       "      <th>13</th>\n",
       "      <td>3.897757</td>\n",
       "      <td>2.433265</td>\n",
       "      <td>1.464492</td>\n",
       "      <td>861.332832</td>\n",
       "    </tr>\n",
       "    <tr>\n",
       "      <th>14</th>\n",
       "      <td>3.897757</td>\n",
       "      <td>2.429128</td>\n",
       "      <td>1.468629</td>\n",
       "      <td>859.868340</td>\n",
       "    </tr>\n",
       "    <tr>\n",
       "      <th>15</th>\n",
       "      <td>3.897757</td>\n",
       "      <td>2.424979</td>\n",
       "      <td>1.472778</td>\n",
       "      <td>858.399711</td>\n",
       "    </tr>\n",
       "    <tr>\n",
       "      <th>16</th>\n",
       "      <td>3.897757</td>\n",
       "      <td>2.420819</td>\n",
       "      <td>1.476939</td>\n",
       "      <td>856.926933</td>\n",
       "    </tr>\n",
       "    <tr>\n",
       "      <th>17</th>\n",
       "      <td>3.897757</td>\n",
       "      <td>2.416646</td>\n",
       "      <td>1.481111</td>\n",
       "      <td>855.449995</td>\n",
       "    </tr>\n",
       "    <tr>\n",
       "      <th>18</th>\n",
       "      <td>3.897757</td>\n",
       "      <td>2.412462</td>\n",
       "      <td>1.485295</td>\n",
       "      <td>853.968884</td>\n",
       "    </tr>\n",
       "    <tr>\n",
       "      <th>19</th>\n",
       "      <td>3.897757</td>\n",
       "      <td>2.408266</td>\n",
       "      <td>1.489491</td>\n",
       "      <td>852.483589</td>\n",
       "    </tr>\n",
       "    <tr>\n",
       "      <th>20</th>\n",
       "      <td>3.897757</td>\n",
       "      <td>2.404058</td>\n",
       "      <td>1.493699</td>\n",
       "      <td>850.994098</td>\n",
       "    </tr>\n",
       "    <tr>\n",
       "      <th>21</th>\n",
       "      <td>3.897757</td>\n",
       "      <td>2.399839</td>\n",
       "      <td>1.497918</td>\n",
       "      <td>849.500399</td>\n",
       "    </tr>\n",
       "    <tr>\n",
       "      <th>22</th>\n",
       "      <td>3.897757</td>\n",
       "      <td>2.395607</td>\n",
       "      <td>1.502150</td>\n",
       "      <td>848.002481</td>\n",
       "    </tr>\n",
       "    <tr>\n",
       "      <th>23</th>\n",
       "      <td>3.897757</td>\n",
       "      <td>2.391363</td>\n",
       "      <td>1.506394</td>\n",
       "      <td>846.500330</td>\n",
       "    </tr>\n",
       "    <tr>\n",
       "      <th>24</th>\n",
       "      <td>3.897757</td>\n",
       "      <td>2.387108</td>\n",
       "      <td>1.510649</td>\n",
       "      <td>844.993937</td>\n",
       "    </tr>\n",
       "    <tr>\n",
       "      <th>25</th>\n",
       "      <td>3.897757</td>\n",
       "      <td>2.382840</td>\n",
       "      <td>1.514917</td>\n",
       "      <td>843.483288</td>\n",
       "    </tr>\n",
       "    <tr>\n",
       "      <th>26</th>\n",
       "      <td>3.897757</td>\n",
       "      <td>2.378561</td>\n",
       "      <td>1.519196</td>\n",
       "      <td>841.968371</td>\n",
       "    </tr>\n",
       "    <tr>\n",
       "      <th>27</th>\n",
       "      <td>3.897757</td>\n",
       "      <td>2.374269</td>\n",
       "      <td>1.523488</td>\n",
       "      <td>840.449174</td>\n",
       "    </tr>\n",
       "    <tr>\n",
       "      <th>28</th>\n",
       "      <td>3.897757</td>\n",
       "      <td>2.369965</td>\n",
       "      <td>1.527792</td>\n",
       "      <td>838.925686</td>\n",
       "    </tr>\n",
       "    <tr>\n",
       "      <th>29</th>\n",
       "      <td>3.897757</td>\n",
       "      <td>2.365649</td>\n",
       "      <td>1.532108</td>\n",
       "      <td>837.397894</td>\n",
       "    </tr>\n",
       "    <tr>\n",
       "      <th>...</th>\n",
       "      <td>...</td>\n",
       "      <td>...</td>\n",
       "      <td>...</td>\n",
       "      <td>...</td>\n",
       "    </tr>\n",
       "    <tr>\n",
       "      <th>330</th>\n",
       "      <td>3.897757</td>\n",
       "      <td>0.316296</td>\n",
       "      <td>3.581461</td>\n",
       "      <td>111.963282</td>\n",
       "    </tr>\n",
       "    <tr>\n",
       "      <th>331</th>\n",
       "      <td>3.897757</td>\n",
       "      <td>0.306179</td>\n",
       "      <td>3.591578</td>\n",
       "      <td>108.381821</td>\n",
       "    </tr>\n",
       "    <tr>\n",
       "      <th>332</th>\n",
       "      <td>3.897757</td>\n",
       "      <td>0.296032</td>\n",
       "      <td>3.601725</td>\n",
       "      <td>104.790243</td>\n",
       "    </tr>\n",
       "    <tr>\n",
       "      <th>333</th>\n",
       "      <td>3.897757</td>\n",
       "      <td>0.285858</td>\n",
       "      <td>3.611900</td>\n",
       "      <td>101.188518</td>\n",
       "    </tr>\n",
       "    <tr>\n",
       "      <th>334</th>\n",
       "      <td>3.897757</td>\n",
       "      <td>0.275654</td>\n",
       "      <td>3.622103</td>\n",
       "      <td>97.576619</td>\n",
       "    </tr>\n",
       "    <tr>\n",
       "      <th>335</th>\n",
       "      <td>3.897757</td>\n",
       "      <td>0.265422</td>\n",
       "      <td>3.632336</td>\n",
       "      <td>93.954516</td>\n",
       "    </tr>\n",
       "    <tr>\n",
       "      <th>336</th>\n",
       "      <td>3.897757</td>\n",
       "      <td>0.255160</td>\n",
       "      <td>3.642597</td>\n",
       "      <td>90.322180</td>\n",
       "    </tr>\n",
       "    <tr>\n",
       "      <th>337</th>\n",
       "      <td>3.897757</td>\n",
       "      <td>0.244870</td>\n",
       "      <td>3.652887</td>\n",
       "      <td>86.679583</td>\n",
       "    </tr>\n",
       "    <tr>\n",
       "      <th>338</th>\n",
       "      <td>3.897757</td>\n",
       "      <td>0.234550</td>\n",
       "      <td>3.663207</td>\n",
       "      <td>83.026696</td>\n",
       "    </tr>\n",
       "    <tr>\n",
       "      <th>339</th>\n",
       "      <td>3.897757</td>\n",
       "      <td>0.224202</td>\n",
       "      <td>3.673555</td>\n",
       "      <td>79.363489</td>\n",
       "    </tr>\n",
       "    <tr>\n",
       "      <th>340</th>\n",
       "      <td>3.897757</td>\n",
       "      <td>0.213824</td>\n",
       "      <td>3.683933</td>\n",
       "      <td>75.689934</td>\n",
       "    </tr>\n",
       "    <tr>\n",
       "      <th>341</th>\n",
       "      <td>3.897757</td>\n",
       "      <td>0.203417</td>\n",
       "      <td>3.694340</td>\n",
       "      <td>72.006001</td>\n",
       "    </tr>\n",
       "    <tr>\n",
       "      <th>342</th>\n",
       "      <td>3.897757</td>\n",
       "      <td>0.192980</td>\n",
       "      <td>3.704777</td>\n",
       "      <td>68.311661</td>\n",
       "    </tr>\n",
       "    <tr>\n",
       "      <th>343</th>\n",
       "      <td>3.897757</td>\n",
       "      <td>0.182514</td>\n",
       "      <td>3.715243</td>\n",
       "      <td>64.606884</td>\n",
       "    </tr>\n",
       "    <tr>\n",
       "      <th>344</th>\n",
       "      <td>3.897757</td>\n",
       "      <td>0.172019</td>\n",
       "      <td>3.725738</td>\n",
       "      <td>60.891641</td>\n",
       "    </tr>\n",
       "    <tr>\n",
       "      <th>345</th>\n",
       "      <td>3.897757</td>\n",
       "      <td>0.161494</td>\n",
       "      <td>3.736263</td>\n",
       "      <td>57.165903</td>\n",
       "    </tr>\n",
       "    <tr>\n",
       "      <th>346</th>\n",
       "      <td>3.897757</td>\n",
       "      <td>0.150939</td>\n",
       "      <td>3.746818</td>\n",
       "      <td>53.429640</td>\n",
       "    </tr>\n",
       "    <tr>\n",
       "      <th>347</th>\n",
       "      <td>3.897757</td>\n",
       "      <td>0.140354</td>\n",
       "      <td>3.757403</td>\n",
       "      <td>49.682821</td>\n",
       "    </tr>\n",
       "    <tr>\n",
       "      <th>348</th>\n",
       "      <td>3.897757</td>\n",
       "      <td>0.129739</td>\n",
       "      <td>3.768018</td>\n",
       "      <td>45.925418</td>\n",
       "    </tr>\n",
       "    <tr>\n",
       "      <th>349</th>\n",
       "      <td>3.897757</td>\n",
       "      <td>0.119095</td>\n",
       "      <td>3.778662</td>\n",
       "      <td>42.157401</td>\n",
       "    </tr>\n",
       "    <tr>\n",
       "      <th>350</th>\n",
       "      <td>3.897757</td>\n",
       "      <td>0.108420</td>\n",
       "      <td>3.789337</td>\n",
       "      <td>38.378738</td>\n",
       "    </tr>\n",
       "    <tr>\n",
       "      <th>351</th>\n",
       "      <td>3.897757</td>\n",
       "      <td>0.097715</td>\n",
       "      <td>3.800042</td>\n",
       "      <td>34.589401</td>\n",
       "    </tr>\n",
       "    <tr>\n",
       "      <th>352</th>\n",
       "      <td>3.897757</td>\n",
       "      <td>0.086980</td>\n",
       "      <td>3.810777</td>\n",
       "      <td>30.789359</td>\n",
       "    </tr>\n",
       "    <tr>\n",
       "      <th>353</th>\n",
       "      <td>3.897757</td>\n",
       "      <td>0.076214</td>\n",
       "      <td>3.821543</td>\n",
       "      <td>26.978582</td>\n",
       "    </tr>\n",
       "    <tr>\n",
       "      <th>354</th>\n",
       "      <td>3.897757</td>\n",
       "      <td>0.065419</td>\n",
       "      <td>3.832338</td>\n",
       "      <td>23.157039</td>\n",
       "    </tr>\n",
       "    <tr>\n",
       "      <th>355</th>\n",
       "      <td>3.897757</td>\n",
       "      <td>0.054592</td>\n",
       "      <td>3.843165</td>\n",
       "      <td>19.324701</td>\n",
       "    </tr>\n",
       "    <tr>\n",
       "      <th>356</th>\n",
       "      <td>3.897757</td>\n",
       "      <td>0.043735</td>\n",
       "      <td>3.854022</td>\n",
       "      <td>15.481536</td>\n",
       "    </tr>\n",
       "    <tr>\n",
       "      <th>357</th>\n",
       "      <td>3.897757</td>\n",
       "      <td>0.032848</td>\n",
       "      <td>3.864909</td>\n",
       "      <td>11.627514</td>\n",
       "    </tr>\n",
       "    <tr>\n",
       "      <th>358</th>\n",
       "      <td>3.897757</td>\n",
       "      <td>0.021929</td>\n",
       "      <td>3.875828</td>\n",
       "      <td>7.762605</td>\n",
       "    </tr>\n",
       "    <tr>\n",
       "      <th>359</th>\n",
       "      <td>3.897757</td>\n",
       "      <td>0.010980</td>\n",
       "      <td>3.886777</td>\n",
       "      <td>3.886777</td>\n",
       "    </tr>\n",
       "  </tbody>\n",
       "</table>\n",
       "<p>360 rows × 4 columns</p>\n",
       "</div>"
      ],
      "text/plain": [
       "     mortgage  interest rent share  equity rent share   still due\n",
       "0    3.897757             2.486000           1.411757  880.000000\n",
       "1    3.897757             2.482012           1.415745  878.588243\n",
       "2    3.897757             2.478012           1.419745  877.172498\n",
       "3    3.897757             2.474002           1.423756  875.752753\n",
       "4    3.897757             2.469979           1.427778  874.328997\n",
       "5    3.897757             2.465946           1.431811  872.901220\n",
       "6    3.897757             2.461901           1.435856  871.469408\n",
       "7    3.897757             2.457845           1.439912  870.033552\n",
       "8    3.897757             2.453777           1.443980  868.593640\n",
       "9    3.897757             2.449698           1.448059  867.149660\n",
       "10   3.897757             2.445607           1.452150  865.701601\n",
       "11   3.897757             2.441505           1.456252  864.249451\n",
       "12   3.897757             2.437391           1.460366  862.793198\n",
       "13   3.897757             2.433265           1.464492  861.332832\n",
       "14   3.897757             2.429128           1.468629  859.868340\n",
       "15   3.897757             2.424979           1.472778  858.399711\n",
       "16   3.897757             2.420819           1.476939  856.926933\n",
       "17   3.897757             2.416646           1.481111  855.449995\n",
       "18   3.897757             2.412462           1.485295  853.968884\n",
       "19   3.897757             2.408266           1.489491  852.483589\n",
       "20   3.897757             2.404058           1.493699  850.994098\n",
       "21   3.897757             2.399839           1.497918  849.500399\n",
       "22   3.897757             2.395607           1.502150  848.002481\n",
       "23   3.897757             2.391363           1.506394  846.500330\n",
       "24   3.897757             2.387108           1.510649  844.993937\n",
       "25   3.897757             2.382840           1.514917  843.483288\n",
       "26   3.897757             2.378561           1.519196  841.968371\n",
       "27   3.897757             2.374269           1.523488  840.449174\n",
       "28   3.897757             2.369965           1.527792  838.925686\n",
       "29   3.897757             2.365649           1.532108  837.397894\n",
       "..        ...                  ...                ...         ...\n",
       "330  3.897757             0.316296           3.581461  111.963282\n",
       "331  3.897757             0.306179           3.591578  108.381821\n",
       "332  3.897757             0.296032           3.601725  104.790243\n",
       "333  3.897757             0.285858           3.611900  101.188518\n",
       "334  3.897757             0.275654           3.622103   97.576619\n",
       "335  3.897757             0.265422           3.632336   93.954516\n",
       "336  3.897757             0.255160           3.642597   90.322180\n",
       "337  3.897757             0.244870           3.652887   86.679583\n",
       "338  3.897757             0.234550           3.663207   83.026696\n",
       "339  3.897757             0.224202           3.673555   79.363489\n",
       "340  3.897757             0.213824           3.683933   75.689934\n",
       "341  3.897757             0.203417           3.694340   72.006001\n",
       "342  3.897757             0.192980           3.704777   68.311661\n",
       "343  3.897757             0.182514           3.715243   64.606884\n",
       "344  3.897757             0.172019           3.725738   60.891641\n",
       "345  3.897757             0.161494           3.736263   57.165903\n",
       "346  3.897757             0.150939           3.746818   53.429640\n",
       "347  3.897757             0.140354           3.757403   49.682821\n",
       "348  3.897757             0.129739           3.768018   45.925418\n",
       "349  3.897757             0.119095           3.778662   42.157401\n",
       "350  3.897757             0.108420           3.789337   38.378738\n",
       "351  3.897757             0.097715           3.800042   34.589401\n",
       "352  3.897757             0.086980           3.810777   30.789359\n",
       "353  3.897757             0.076214           3.821543   26.978582\n",
       "354  3.897757             0.065419           3.832338   23.157039\n",
       "355  3.897757             0.054592           3.843165   19.324701\n",
       "356  3.897757             0.043735           3.854022   15.481536\n",
       "357  3.897757             0.032848           3.864909   11.627514\n",
       "358  3.897757             0.021929           3.875828    7.762605\n",
       "359  3.897757             0.010980           3.886777    3.886777\n",
       "\n",
       "[360 rows x 4 columns]"
      ]
     },
     "execution_count": 443,
     "metadata": {},
     "output_type": "execute_result"
    }
   ],
   "source": [
    "mortgage = np.ones(N)*monthlyRepayment\n",
    "\n",
    "interestRentShare = r*dueAtN(principal, monthlyRepayment, r, np.arange(N) )\n",
    "equityRentShare = mortgage - interestRentShare\n",
    "\n",
    "d = {'mortgage': mortgage, }\n",
    "df = pd.DataFrame(data=d)\n",
    "\n",
    "df.insert(1,'interest rent share', interestRentShare, True)\n",
    "df.insert(2,'equity rent share', equityRentShare, True)\n",
    "df.insert(3,'still due', dueAtN(principal, monthlyRepayment, r, np.arange(N) ), True)\n",
    "\n",
    "totalInterest = monthlyRepayment * N - principal\n",
    "\n",
    "print('total interest: {} or {}'.format(np.round(np.sum(interestRentShare)), np.round(monthlyRepayment * N - principal)))\n",
    "print('total equity: {} or {}'.format(np.round(np.sum(equityRentShare)), principal))\n",
    "\n",
    "df"
   ]
  },
  {
   "cell_type": "code",
   "execution_count": 473,
   "metadata": {
    "collapsed": false
   },
   "outputs": [
    {
     "data": {
      "image/png": "[encoded data removed]",
      "text/plain": [
       "<matplotlib.figure.Figure at 0x11a2c3c50>"
      ]
     },
     "metadata": {},
     "output_type": "display_data"
    }
   ],
   "source": [
    "#import matplotlib.pyplot as plt\n",
    "import matplotlib.pyplot as plt, mpld3\n",
    "\n",
    "# gca stands for 'get current axis'\n",
    "ax = plt.gca()\n",
    "\n",
    "plt.plot(df['interest rent share']/mortgage, 'blue', label='interest rent share')\n",
    "plt.plot(df['equity rent share']/mortgage, 'red', label='equity rent share')\n",
    "\n",
    "#line, = ax.plot([1, 2, 3], label='Inline label')\n",
    "ax.legend()\n",
    "plt.title('Evolution of the equity/interest share paid over time')\n",
    "\n",
    "plt.grid()\n",
    "plt.show()\n",
    "#mpld3.display()\n",
    "#mpld3.show()"
   ]
  },
  {
   "cell_type": "code",
   "execution_count": 470,
   "metadata": {
    "collapsed": false
   },
   "outputs": [
    {
     "data": {
      "image/png": "[encoded data removed]",
      "text/plain": [
       "<matplotlib.figure.Figure at 0x11a75a048>"
      ]
     },
     "metadata": {},
     "output_type": "display_data"
    }
   ],
   "source": [
    "import matplotlib.animation as animation\n",
    "\n",
    "# visualizing c/p surface\n",
    "rs = np.linspace(0.00001, .3)\n",
    "ns = np.linspace(10, 30*12)\n",
    "X, Y = np.meshgrid(rs, ns)\n",
    "\n",
    "pc = mortgageMultiplier(X, Y)\n",
    "\n",
    "fig = plt.figure()\n",
    "ax = plt.axes(projection='3d')\n",
    "ax.contour3D(X, Y, pc, 50)\n",
    "ax.set_xlabel('r')\n",
    "ax.set_ylabel('n')\n",
    "ax.set_zlabel('c/p');\n",
    "\n",
    "# changes the angle\n",
    "ax.view_init(10, 15)\n",
    "\n",
    "plt.show()\n",
    "#mpld3.show()\n",
    "#mpld3.display()\n"
   ]
  },
  {
   "cell_type": "code",
   "execution_count": null,
   "metadata": {
    "collapsed": true
   },
   "outputs": [],
   "source": []
  }
 ],
 "metadata": {
  "anaconda-cloud": {},
  "kernelspec": {
   "display_name": "Python [default]",
   "language": "python",
   "name": "python3"
  },
  "language_info": {
   "codemirror_mode": {
    "name": "ipython",
    "version": 3
   },
   "file_extension": ".py",
   "mimetype": "text/x-python",
   "name": "python",
   "nbconvert_exporter": "python",
   "pygments_lexer": "ipython3",
   "version": "3.5.2"
  }
 },
 "nbformat": 4,
 "nbformat_minor": 1
}
